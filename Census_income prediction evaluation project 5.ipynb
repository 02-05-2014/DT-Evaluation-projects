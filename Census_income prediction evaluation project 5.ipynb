{
 "cells": [
  {
   "cell_type": "markdown",
   "id": "302f74f7",
   "metadata": {},
   "source": [
    "# Census_Income Project"
   ]
  },
  {
   "cell_type": "code",
   "execution_count": 1,
   "id": "d62cef27",
   "metadata": {},
   "outputs": [],
   "source": [
    "#importing imp libraries\n",
    "\n",
    "import pandas as pd\n",
    "import numpy as np\n",
    "import seaborn as sns\n",
    "import scipy.stats as s\n",
    "import matplotlib.pyplot as plt\n",
    "#sns.set(style = 'whitegrid')\n",
    "import warnings\n",
    "warnings.filterwarnings('ignore')\n"
   ]
  },
  {
   "cell_type": "code",
   "execution_count": 2,
   "id": "cbab1497",
   "metadata": {},
   "outputs": [
    {
     "data": {
      "text/html": [
       "<div>\n",
       "<style scoped>\n",
       "    .dataframe tbody tr th:only-of-type {\n",
       "        vertical-align: middle;\n",
       "    }\n",
       "\n",
       "    .dataframe tbody tr th {\n",
       "        vertical-align: top;\n",
       "    }\n",
       "\n",
       "    .dataframe thead th {\n",
       "        text-align: right;\n",
       "    }\n",
       "</style>\n",
       "<table border=\"1\" class=\"dataframe\">\n",
       "  <thead>\n",
       "    <tr style=\"text-align: right;\">\n",
       "      <th></th>\n",
       "      <th>Age</th>\n",
       "      <th>Workclass</th>\n",
       "      <th>Fnlwgt</th>\n",
       "      <th>Education</th>\n",
       "      <th>Education_num</th>\n",
       "      <th>Marital_status</th>\n",
       "      <th>Occupation</th>\n",
       "      <th>Relationship</th>\n",
       "      <th>Race</th>\n",
       "      <th>Sex</th>\n",
       "      <th>Capital_gain</th>\n",
       "      <th>Capital_loss</th>\n",
       "      <th>Hours_per_week</th>\n",
       "      <th>Native_country</th>\n",
       "      <th>Income</th>\n",
       "    </tr>\n",
       "  </thead>\n",
       "  <tbody>\n",
       "    <tr>\n",
       "      <th>0</th>\n",
       "      <td>50</td>\n",
       "      <td>Self-emp-not-inc</td>\n",
       "      <td>83311</td>\n",
       "      <td>Bachelors</td>\n",
       "      <td>13</td>\n",
       "      <td>Married-civ-spouse</td>\n",
       "      <td>Exec-managerial</td>\n",
       "      <td>Husband</td>\n",
       "      <td>White</td>\n",
       "      <td>Male</td>\n",
       "      <td>0</td>\n",
       "      <td>0</td>\n",
       "      <td>13</td>\n",
       "      <td>United-States</td>\n",
       "      <td>&lt;=50K</td>\n",
       "    </tr>\n",
       "    <tr>\n",
       "      <th>1</th>\n",
       "      <td>38</td>\n",
       "      <td>Private</td>\n",
       "      <td>215646</td>\n",
       "      <td>HS-grad</td>\n",
       "      <td>9</td>\n",
       "      <td>Divorced</td>\n",
       "      <td>Handlers-cleaners</td>\n",
       "      <td>Not-in-family</td>\n",
       "      <td>White</td>\n",
       "      <td>Male</td>\n",
       "      <td>0</td>\n",
       "      <td>0</td>\n",
       "      <td>40</td>\n",
       "      <td>United-States</td>\n",
       "      <td>&lt;=50K</td>\n",
       "    </tr>\n",
       "    <tr>\n",
       "      <th>2</th>\n",
       "      <td>53</td>\n",
       "      <td>Private</td>\n",
       "      <td>234721</td>\n",
       "      <td>11th</td>\n",
       "      <td>7</td>\n",
       "      <td>Married-civ-spouse</td>\n",
       "      <td>Handlers-cleaners</td>\n",
       "      <td>Husband</td>\n",
       "      <td>Black</td>\n",
       "      <td>Male</td>\n",
       "      <td>0</td>\n",
       "      <td>0</td>\n",
       "      <td>40</td>\n",
       "      <td>United-States</td>\n",
       "      <td>&lt;=50K</td>\n",
       "    </tr>\n",
       "    <tr>\n",
       "      <th>3</th>\n",
       "      <td>28</td>\n",
       "      <td>Private</td>\n",
       "      <td>338409</td>\n",
       "      <td>Bachelors</td>\n",
       "      <td>13</td>\n",
       "      <td>Married-civ-spouse</td>\n",
       "      <td>Prof-specialty</td>\n",
       "      <td>Wife</td>\n",
       "      <td>Black</td>\n",
       "      <td>Female</td>\n",
       "      <td>0</td>\n",
       "      <td>0</td>\n",
       "      <td>40</td>\n",
       "      <td>Cuba</td>\n",
       "      <td>&lt;=50K</td>\n",
       "    </tr>\n",
       "    <tr>\n",
       "      <th>4</th>\n",
       "      <td>37</td>\n",
       "      <td>Private</td>\n",
       "      <td>284582</td>\n",
       "      <td>Masters</td>\n",
       "      <td>14</td>\n",
       "      <td>Married-civ-spouse</td>\n",
       "      <td>Exec-managerial</td>\n",
       "      <td>Wife</td>\n",
       "      <td>White</td>\n",
       "      <td>Female</td>\n",
       "      <td>0</td>\n",
       "      <td>0</td>\n",
       "      <td>40</td>\n",
       "      <td>United-States</td>\n",
       "      <td>&lt;=50K</td>\n",
       "    </tr>\n",
       "    <tr>\n",
       "      <th>5</th>\n",
       "      <td>49</td>\n",
       "      <td>Private</td>\n",
       "      <td>160187</td>\n",
       "      <td>9th</td>\n",
       "      <td>5</td>\n",
       "      <td>Married-spouse-absent</td>\n",
       "      <td>Other-service</td>\n",
       "      <td>Not-in-family</td>\n",
       "      <td>Black</td>\n",
       "      <td>Female</td>\n",
       "      <td>0</td>\n",
       "      <td>0</td>\n",
       "      <td>16</td>\n",
       "      <td>Jamaica</td>\n",
       "      <td>&lt;=50K</td>\n",
       "    </tr>\n",
       "    <tr>\n",
       "      <th>6</th>\n",
       "      <td>52</td>\n",
       "      <td>Self-emp-not-inc</td>\n",
       "      <td>209642</td>\n",
       "      <td>HS-grad</td>\n",
       "      <td>9</td>\n",
       "      <td>Married-civ-spouse</td>\n",
       "      <td>Exec-managerial</td>\n",
       "      <td>Husband</td>\n",
       "      <td>White</td>\n",
       "      <td>Male</td>\n",
       "      <td>0</td>\n",
       "      <td>0</td>\n",
       "      <td>45</td>\n",
       "      <td>United-States</td>\n",
       "      <td>&gt;50K</td>\n",
       "    </tr>\n",
       "    <tr>\n",
       "      <th>7</th>\n",
       "      <td>31</td>\n",
       "      <td>Private</td>\n",
       "      <td>45781</td>\n",
       "      <td>Masters</td>\n",
       "      <td>14</td>\n",
       "      <td>Never-married</td>\n",
       "      <td>Prof-specialty</td>\n",
       "      <td>Not-in-family</td>\n",
       "      <td>White</td>\n",
       "      <td>Female</td>\n",
       "      <td>14084</td>\n",
       "      <td>0</td>\n",
       "      <td>50</td>\n",
       "      <td>United-States</td>\n",
       "      <td>&gt;50K</td>\n",
       "    </tr>\n",
       "    <tr>\n",
       "      <th>8</th>\n",
       "      <td>42</td>\n",
       "      <td>Private</td>\n",
       "      <td>159449</td>\n",
       "      <td>Bachelors</td>\n",
       "      <td>13</td>\n",
       "      <td>Married-civ-spouse</td>\n",
       "      <td>Exec-managerial</td>\n",
       "      <td>Husband</td>\n",
       "      <td>White</td>\n",
       "      <td>Male</td>\n",
       "      <td>5178</td>\n",
       "      <td>0</td>\n",
       "      <td>40</td>\n",
       "      <td>United-States</td>\n",
       "      <td>&gt;50K</td>\n",
       "    </tr>\n",
       "    <tr>\n",
       "      <th>9</th>\n",
       "      <td>37</td>\n",
       "      <td>Private</td>\n",
       "      <td>280464</td>\n",
       "      <td>Some-college</td>\n",
       "      <td>10</td>\n",
       "      <td>Married-civ-spouse</td>\n",
       "      <td>Exec-managerial</td>\n",
       "      <td>Husband</td>\n",
       "      <td>Black</td>\n",
       "      <td>Male</td>\n",
       "      <td>0</td>\n",
       "      <td>0</td>\n",
       "      <td>80</td>\n",
       "      <td>United-States</td>\n",
       "      <td>&gt;50K</td>\n",
       "    </tr>\n",
       "  </tbody>\n",
       "</table>\n",
       "</div>"
      ],
      "text/plain": [
       "   Age          Workclass  Fnlwgt      Education  Education_num  \\\n",
       "0   50   Self-emp-not-inc   83311      Bachelors             13   \n",
       "1   38            Private  215646        HS-grad              9   \n",
       "2   53            Private  234721           11th              7   \n",
       "3   28            Private  338409      Bachelors             13   \n",
       "4   37            Private  284582        Masters             14   \n",
       "5   49            Private  160187            9th              5   \n",
       "6   52   Self-emp-not-inc  209642        HS-grad              9   \n",
       "7   31            Private   45781        Masters             14   \n",
       "8   42            Private  159449      Bachelors             13   \n",
       "9   37            Private  280464   Some-college             10   \n",
       "\n",
       "           Marital_status          Occupation    Relationship    Race  \\\n",
       "0      Married-civ-spouse     Exec-managerial         Husband   White   \n",
       "1                Divorced   Handlers-cleaners   Not-in-family   White   \n",
       "2      Married-civ-spouse   Handlers-cleaners         Husband   Black   \n",
       "3      Married-civ-spouse      Prof-specialty            Wife   Black   \n",
       "4      Married-civ-spouse     Exec-managerial            Wife   White   \n",
       "5   Married-spouse-absent       Other-service   Not-in-family   Black   \n",
       "6      Married-civ-spouse     Exec-managerial         Husband   White   \n",
       "7           Never-married      Prof-specialty   Not-in-family   White   \n",
       "8      Married-civ-spouse     Exec-managerial         Husband   White   \n",
       "9      Married-civ-spouse     Exec-managerial         Husband   Black   \n",
       "\n",
       "       Sex  Capital_gain  Capital_loss  Hours_per_week  Native_country  Income  \n",
       "0     Male             0             0              13   United-States   <=50K  \n",
       "1     Male             0             0              40   United-States   <=50K  \n",
       "2     Male             0             0              40   United-States   <=50K  \n",
       "3   Female             0             0              40            Cuba   <=50K  \n",
       "4   Female             0             0              40   United-States   <=50K  \n",
       "5   Female             0             0              16         Jamaica   <=50K  \n",
       "6     Male             0             0              45   United-States    >50K  \n",
       "7   Female         14084             0              50   United-States    >50K  \n",
       "8     Male          5178             0              40   United-States    >50K  \n",
       "9     Male             0             0              80   United-States    >50K  "
      ]
     },
     "execution_count": 2,
     "metadata": {},
     "output_type": "execute_result"
    }
   ],
   "source": [
    "#loading the dataset\n",
    "\n",
    "data = pd.read_csv(r\"https://raw.githubusercontent.com/dsrscientist/dataset1/master/census_income.csv\")\n",
    "data.head(10)"
   ]
  },
  {
   "cell_type": "code",
   "execution_count": 3,
   "id": "6679e9dc",
   "metadata": {},
   "outputs": [
    {
     "data": {
      "text/plain": [
       "(32560, 15)"
      ]
     },
     "execution_count": 3,
     "metadata": {},
     "output_type": "execute_result"
    }
   ],
   "source": [
    "data.shape"
   ]
  },
  {
   "cell_type": "code",
   "execution_count": 4,
   "id": "5c0edb36",
   "metadata": {},
   "outputs": [
    {
     "name": "stdout",
     "output_type": "stream",
     "text": [
      "<class 'pandas.core.frame.DataFrame'>\n",
      "RangeIndex: 32560 entries, 0 to 32559\n",
      "Data columns (total 15 columns):\n",
      " #   Column          Non-Null Count  Dtype \n",
      "---  ------          --------------  ----- \n",
      " 0   Age             32560 non-null  int64 \n",
      " 1   Workclass       32560 non-null  object\n",
      " 2   Fnlwgt          32560 non-null  int64 \n",
      " 3   Education       32560 non-null  object\n",
      " 4   Education_num   32560 non-null  int64 \n",
      " 5   Marital_status  32560 non-null  object\n",
      " 6   Occupation      32560 non-null  object\n",
      " 7   Relationship    32560 non-null  object\n",
      " 8   Race            32560 non-null  object\n",
      " 9   Sex             32560 non-null  object\n",
      " 10  Capital_gain    32560 non-null  int64 \n",
      " 11  Capital_loss    32560 non-null  int64 \n",
      " 12  Hours_per_week  32560 non-null  int64 \n",
      " 13  Native_country  32560 non-null  object\n",
      " 14  Income          32560 non-null  object\n",
      "dtypes: int64(6), object(9)\n",
      "memory usage: 3.7+ MB\n"
     ]
    }
   ],
   "source": [
    "data.info()"
   ]
  },
  {
   "cell_type": "markdown",
   "id": "b748cd2b",
   "metadata": {},
   "source": [
    "having a mix of object and integer types"
   ]
  },
  {
   "cell_type": "code",
   "execution_count": 5,
   "id": "933a9c7c",
   "metadata": {},
   "outputs": [
    {
     "data": {
      "text/plain": [
       "Age                  73\n",
       "Workclass             9\n",
       "Fnlwgt            21647\n",
       "Education            16\n",
       "Education_num        16\n",
       "Marital_status        7\n",
       "Occupation           15\n",
       "Relationship          6\n",
       "Race                  5\n",
       "Sex                   2\n",
       "Capital_gain        119\n",
       "Capital_loss         92\n",
       "Hours_per_week       94\n",
       "Native_country       42\n",
       "Income                2\n",
       "dtype: int64"
      ]
     },
     "execution_count": 5,
     "metadata": {},
     "output_type": "execute_result"
    }
   ],
   "source": [
    "#checking unique values\n",
    "\n",
    "data.nunique()\n"
   ]
  },
  {
   "cell_type": "code",
   "execution_count": 6,
   "id": "16ca2821",
   "metadata": {},
   "outputs": [
    {
     "data": {
      "text/plain": [
       "array([   0, 2042, 1408, 1902, 1573, 1887, 1719, 1762, 1564, 2179, 1816,\n",
       "       1980, 1977, 1876, 1340, 2206, 1741, 1485, 2339, 2415, 1380, 1721,\n",
       "       2051, 2377, 1669, 2352, 1672,  653, 2392, 1504, 2001, 1590, 1651,\n",
       "       1628, 1848, 1740, 2002, 1579, 2258, 1602,  419, 2547, 2174, 2205,\n",
       "       1726, 2444, 1138, 2238,  625,  213, 1539,  880, 1668, 1092, 1594,\n",
       "       3004, 2231, 1844,  810, 2824, 2559, 2057, 1974,  974, 2149, 1825,\n",
       "       1735, 1258, 2129, 2603, 2282,  323, 4356, 2246, 1617, 1648, 2489,\n",
       "       3770, 1755, 3683, 2267, 2080, 2457,  155, 3900, 2201, 1944, 2467,\n",
       "       2163, 2754, 2472, 1411], dtype=int64)"
      ]
     },
     "execution_count": 6,
     "metadata": {},
     "output_type": "execute_result"
    }
   ],
   "source": [
    "data['Capital_loss'].unique()"
   ]
  },
  {
   "cell_type": "code",
   "execution_count": 7,
   "id": "cd7d575d",
   "metadata": {},
   "outputs": [
    {
     "data": {
      "text/plain": [
       "array([' United-States', ' Cuba', ' Jamaica', ' India', ' ?', ' Mexico',\n",
       "       ' South', ' Puerto-Rico', ' Honduras', ' England', ' Canada',\n",
       "       ' Germany', ' Iran', ' Philippines', ' Italy', ' Poland',\n",
       "       ' Columbia', ' Cambodia', ' Thailand', ' Ecuador', ' Laos',\n",
       "       ' Taiwan', ' Haiti', ' Portugal', ' Dominican-Republic',\n",
       "       ' El-Salvador', ' France', ' Guatemala', ' China', ' Japan',\n",
       "       ' Yugoslavia', ' Peru', ' Outlying-US(Guam-USVI-etc)', ' Scotland',\n",
       "       ' Trinadad&Tobago', ' Greece', ' Nicaragua', ' Vietnam', ' Hong',\n",
       "       ' Ireland', ' Hungary', ' Holand-Netherlands'], dtype=object)"
      ]
     },
     "execution_count": 7,
     "metadata": {},
     "output_type": "execute_result"
    }
   ],
   "source": [
    "data['Native_country'].unique()"
   ]
  },
  {
   "cell_type": "code",
   "execution_count": 8,
   "id": "7ee2369d",
   "metadata": {},
   "outputs": [],
   "source": [
    "#replacing ? with nan\n",
    "\n",
    "data['Native_country'].replace(' ?', np.nan, inplace=True)"
   ]
  },
  {
   "cell_type": "code",
   "execution_count": 9,
   "id": "e21a3fd3",
   "metadata": {},
   "outputs": [
    {
     "data": {
      "text/plain": [
       "24"
      ]
     },
     "execution_count": 9,
     "metadata": {},
     "output_type": "execute_result"
    }
   ],
   "source": [
    "data.duplicated().sum()"
   ]
  },
  {
   "cell_type": "code",
   "execution_count": 10,
   "id": "976b4d1d",
   "metadata": {},
   "outputs": [
    {
     "data": {
      "text/plain": [
       "(32536, 15)"
      ]
     },
     "execution_count": 10,
     "metadata": {},
     "output_type": "execute_result"
    }
   ],
   "source": [
    "#remove duplicate but leave one \n",
    "data.drop_duplicates(keep='first',inplace=True)\n",
    "data.shape"
   ]
  },
  {
   "cell_type": "code",
   "execution_count": 11,
   "id": "9bda512c",
   "metadata": {},
   "outputs": [
    {
     "data": {
      "text/plain": [
       "array([' Self-emp-not-inc', ' Private', ' State-gov', ' Federal-gov',\n",
       "       ' Local-gov', ' ?', ' Self-emp-inc', ' Without-pay',\n",
       "       ' Never-worked'], dtype=object)"
      ]
     },
     "execution_count": 11,
     "metadata": {},
     "output_type": "execute_result"
    }
   ],
   "source": [
    "data['Workclass'].unique()"
   ]
  },
  {
   "cell_type": "code",
   "execution_count": 12,
   "id": "2c7c1458",
   "metadata": {},
   "outputs": [],
   "source": [
    "# replacing '?' with NaN\n",
    "data['Workclass'].replace(' ?', np.nan, inplace=True)"
   ]
  },
  {
   "cell_type": "code",
   "execution_count": 13,
   "id": "ca34b96b",
   "metadata": {},
   "outputs": [
    {
     "data": {
      "text/plain": [
       "array([' Exec-managerial', ' Handlers-cleaners', ' Prof-specialty',\n",
       "       ' Other-service', ' Adm-clerical', ' Sales', ' Craft-repair',\n",
       "       ' Transport-moving', ' Farming-fishing', ' Machine-op-inspct',\n",
       "       ' Tech-support', ' ?', ' Protective-serv', ' Armed-Forces',\n",
       "       ' Priv-house-serv'], dtype=object)"
      ]
     },
     "execution_count": 13,
     "metadata": {},
     "output_type": "execute_result"
    }
   ],
   "source": [
    "data['Occupation'].unique()"
   ]
  },
  {
   "cell_type": "code",
   "execution_count": 14,
   "id": "8f7f8465",
   "metadata": {},
   "outputs": [],
   "source": [
    "#replacing ? with nan\n",
    "\n",
    "data['Occupation'].replace(' ?',np.nan,inplace=True)"
   ]
  },
  {
   "cell_type": "code",
   "execution_count": null,
   "id": "da4e0f1f",
   "metadata": {},
   "outputs": [],
   "source": []
  },
  {
   "cell_type": "code",
   "execution_count": 15,
   "id": "4c19b4de",
   "metadata": {},
   "outputs": [
    {
     "data": {
      "text/plain": [
       "array([    0, 14084,  5178,  5013,  2407, 14344, 15024,  7688, 34095,\n",
       "        4064,  4386,  7298,  1409,  3674,  1055,  3464,  2050,  2176,\n",
       "        2174,   594, 20051,  6849,  4101,  1111,  8614,  3411,  2597,\n",
       "       25236,  4650,  9386,  2463,  3103, 10605,  2964,  3325,  2580,\n",
       "        3471,  4865, 99999,  6514,  1471,  2329,  2105,  2885, 25124,\n",
       "       10520,  2202,  2961, 27828,  6767,  2228,  1506, 13550,  2635,\n",
       "        5556,  4787,  3781,  3137,  3818,  3942,   914,   401,  2829,\n",
       "        2977,  4934,  2062,  2354,  5455, 15020,  1424,  3273, 22040,\n",
       "        4416,  3908, 10566,   991,  4931,  1086,  7430,  6497,   114,\n",
       "        7896,  2346,  3418,  3432,  2907,  1151,  2414,  2290, 15831,\n",
       "       41310,  4508,  2538,  3456,  6418,  1848,  3887,  5721,  9562,\n",
       "        1455,  2036,  1831, 11678,  2936,  2993,  7443,  6360,  1797,\n",
       "        1173,  4687,  6723,  2009,  6097,  2653,  1639, 18481,  7978,\n",
       "        2387,  5060], dtype=int64)"
      ]
     },
     "execution_count": 15,
     "metadata": {},
     "output_type": "execute_result"
    }
   ],
   "source": [
    "data['Capital_gain'].unique()"
   ]
  },
  {
   "cell_type": "code",
   "execution_count": null,
   "id": "4878743e",
   "metadata": {},
   "outputs": [],
   "source": []
  },
  {
   "cell_type": "code",
   "execution_count": 16,
   "id": "a7607a53",
   "metadata": {},
   "outputs": [
    {
     "data": {
      "text/plain": [
       "array([' Bachelors', ' HS-grad', ' 11th', ' Masters', ' 9th',\n",
       "       ' Some-college', ' Assoc-acdm', ' Assoc-voc', ' 7th-8th',\n",
       "       ' Doctorate', ' Prof-school', ' 5th-6th', ' 10th', ' 1st-4th',\n",
       "       ' Preschool', ' 12th'], dtype=object)"
      ]
     },
     "execution_count": 16,
     "metadata": {},
     "output_type": "execute_result"
    }
   ],
   "source": [
    "data['Education'].unique()"
   ]
  },
  {
   "cell_type": "code",
   "execution_count": 17,
   "id": "40e3a06e",
   "metadata": {},
   "outputs": [
    {
     "data": {
      "text/plain": [
       "array([13,  9,  7, 14,  5, 10, 12, 11,  4, 16, 15,  3,  6,  2,  1,  8],\n",
       "      dtype=int64)"
      ]
     },
     "execution_count": 17,
     "metadata": {},
     "output_type": "execute_result"
    }
   ],
   "source": [
    "data['Education_num'].unique()"
   ]
  },
  {
   "cell_type": "code",
   "execution_count": 18,
   "id": "726c5f41",
   "metadata": {},
   "outputs": [
    {
     "data": {
      "text/plain": [
       "array([ 83311, 215646, 234721, ...,  34066,  84661, 257302], dtype=int64)"
      ]
     },
     "execution_count": 18,
     "metadata": {},
     "output_type": "execute_result"
    }
   ],
   "source": [
    "data['Fnlwgt'].unique()"
   ]
  },
  {
   "cell_type": "code",
   "execution_count": 19,
   "id": "68baab43",
   "metadata": {},
   "outputs": [
    {
     "data": {
      "text/plain": [
       "Age                  0\n",
       "Workclass         1836\n",
       "Fnlwgt               0\n",
       "Education            0\n",
       "Education_num        0\n",
       "Marital_status       0\n",
       "Occupation        1843\n",
       "Relationship         0\n",
       "Race                 0\n",
       "Sex                  0\n",
       "Capital_gain         0\n",
       "Capital_loss         0\n",
       "Hours_per_week       0\n",
       "Native_country     582\n",
       "Income               0\n",
       "dtype: int64"
      ]
     },
     "execution_count": 19,
     "metadata": {},
     "output_type": "execute_result"
    }
   ],
   "source": [
    "data.isnull().sum()"
   ]
  },
  {
   "cell_type": "code",
   "execution_count": null,
   "id": "53794416",
   "metadata": {},
   "outputs": [],
   "source": []
  },
  {
   "cell_type": "code",
   "execution_count": 20,
   "id": "8a7614d8",
   "metadata": {},
   "outputs": [
    {
     "data": {
      "text/html": [
       "<div>\n",
       "<style scoped>\n",
       "    .dataframe tbody tr th:only-of-type {\n",
       "        vertical-align: middle;\n",
       "    }\n",
       "\n",
       "    .dataframe tbody tr th {\n",
       "        vertical-align: top;\n",
       "    }\n",
       "\n",
       "    .dataframe thead th {\n",
       "        text-align: right;\n",
       "    }\n",
       "</style>\n",
       "<table border=\"1\" class=\"dataframe\">\n",
       "  <thead>\n",
       "    <tr style=\"text-align: right;\">\n",
       "      <th></th>\n",
       "      <th>Age</th>\n",
       "      <th>Workclass</th>\n",
       "      <th>Fnlwgt</th>\n",
       "      <th>Education</th>\n",
       "      <th>Education_num</th>\n",
       "      <th>Marital_status</th>\n",
       "      <th>Occupation</th>\n",
       "      <th>Relationship</th>\n",
       "      <th>Race</th>\n",
       "      <th>Sex</th>\n",
       "      <th>Capital_gain</th>\n",
       "      <th>Capital_loss</th>\n",
       "      <th>Hours_per_week</th>\n",
       "      <th>Native_country</th>\n",
       "      <th>Income</th>\n",
       "    </tr>\n",
       "  </thead>\n",
       "  <tbody>\n",
       "    <tr>\n",
       "      <th>26</th>\n",
       "      <td>54</td>\n",
       "      <td>NaN</td>\n",
       "      <td>180211</td>\n",
       "      <td>Some-college</td>\n",
       "      <td>10</td>\n",
       "      <td>Married-civ-spouse</td>\n",
       "      <td>NaN</td>\n",
       "      <td>Husband</td>\n",
       "      <td>Asian-Pac-Islander</td>\n",
       "      <td>Male</td>\n",
       "      <td>0</td>\n",
       "      <td>0</td>\n",
       "      <td>60</td>\n",
       "      <td>South</td>\n",
       "      <td>&gt;50K</td>\n",
       "    </tr>\n",
       "    <tr>\n",
       "      <th>60</th>\n",
       "      <td>32</td>\n",
       "      <td>NaN</td>\n",
       "      <td>293936</td>\n",
       "      <td>7th-8th</td>\n",
       "      <td>4</td>\n",
       "      <td>Married-spouse-absent</td>\n",
       "      <td>NaN</td>\n",
       "      <td>Not-in-family</td>\n",
       "      <td>White</td>\n",
       "      <td>Male</td>\n",
       "      <td>0</td>\n",
       "      <td>0</td>\n",
       "      <td>40</td>\n",
       "      <td>NaN</td>\n",
       "      <td>&lt;=50K</td>\n",
       "    </tr>\n",
       "    <tr>\n",
       "      <th>68</th>\n",
       "      <td>25</td>\n",
       "      <td>NaN</td>\n",
       "      <td>200681</td>\n",
       "      <td>Some-college</td>\n",
       "      <td>10</td>\n",
       "      <td>Never-married</td>\n",
       "      <td>NaN</td>\n",
       "      <td>Own-child</td>\n",
       "      <td>White</td>\n",
       "      <td>Male</td>\n",
       "      <td>0</td>\n",
       "      <td>0</td>\n",
       "      <td>40</td>\n",
       "      <td>United-States</td>\n",
       "      <td>&lt;=50K</td>\n",
       "    </tr>\n",
       "    <tr>\n",
       "      <th>76</th>\n",
       "      <td>67</td>\n",
       "      <td>NaN</td>\n",
       "      <td>212759</td>\n",
       "      <td>10th</td>\n",
       "      <td>6</td>\n",
       "      <td>Married-civ-spouse</td>\n",
       "      <td>NaN</td>\n",
       "      <td>Husband</td>\n",
       "      <td>White</td>\n",
       "      <td>Male</td>\n",
       "      <td>0</td>\n",
       "      <td>0</td>\n",
       "      <td>2</td>\n",
       "      <td>United-States</td>\n",
       "      <td>&lt;=50K</td>\n",
       "    </tr>\n",
       "    <tr>\n",
       "      <th>105</th>\n",
       "      <td>17</td>\n",
       "      <td>NaN</td>\n",
       "      <td>304873</td>\n",
       "      <td>10th</td>\n",
       "      <td>6</td>\n",
       "      <td>Never-married</td>\n",
       "      <td>NaN</td>\n",
       "      <td>Own-child</td>\n",
       "      <td>White</td>\n",
       "      <td>Female</td>\n",
       "      <td>34095</td>\n",
       "      <td>0</td>\n",
       "      <td>32</td>\n",
       "      <td>United-States</td>\n",
       "      <td>&lt;=50K</td>\n",
       "    </tr>\n",
       "  </tbody>\n",
       "</table>\n",
       "</div>"
      ],
      "text/plain": [
       "     Age Workclass  Fnlwgt      Education  Education_num  \\\n",
       "26    54       NaN  180211   Some-college             10   \n",
       "60    32       NaN  293936        7th-8th              4   \n",
       "68    25       NaN  200681   Some-college             10   \n",
       "76    67       NaN  212759           10th              6   \n",
       "105   17       NaN  304873           10th              6   \n",
       "\n",
       "             Marital_status Occupation    Relationship                 Race  \\\n",
       "26       Married-civ-spouse        NaN         Husband   Asian-Pac-Islander   \n",
       "60    Married-spouse-absent        NaN   Not-in-family                White   \n",
       "68            Never-married        NaN       Own-child                White   \n",
       "76       Married-civ-spouse        NaN         Husband                White   \n",
       "105           Never-married        NaN       Own-child                White   \n",
       "\n",
       "         Sex  Capital_gain  Capital_loss  Hours_per_week  Native_country  \\\n",
       "26      Male             0             0              60           South   \n",
       "60      Male             0             0              40             NaN   \n",
       "68      Male             0             0              40   United-States   \n",
       "76      Male             0             0               2   United-States   \n",
       "105   Female         34095             0              32   United-States   \n",
       "\n",
       "     Income  \n",
       "26     >50K  \n",
       "60    <=50K  \n",
       "68    <=50K  \n",
       "76    <=50K  \n",
       "105   <=50K  "
      ]
     },
     "execution_count": 20,
     "metadata": {},
     "output_type": "execute_result"
    }
   ],
   "source": [
    "#checking nulls \n",
    "\n",
    "df= data[data['Workclass'].isnull()]\n",
    "df.head()"
   ]
  },
  {
   "cell_type": "markdown",
   "id": "fa12e5f0",
   "metadata": {},
   "source": [
    "observing that workclass and occupation having nan simultaneously. so we will check workclass with mode and see what is coming most and check for occupation what comes in row with that and replace nan with that value."
   ]
  },
  {
   "cell_type": "code",
   "execution_count": 21,
   "id": "5791115c",
   "metadata": {},
   "outputs": [
    {
     "data": {
      "text/plain": [
       "0     Private\n",
       "Name: Workclass, dtype: object"
      ]
     },
     "execution_count": 21,
     "metadata": {},
     "output_type": "execute_result"
    }
   ],
   "source": [
    "data['Workclass'].mode()"
   ]
  },
  {
   "cell_type": "code",
   "execution_count": 22,
   "id": "ffa1df8b",
   "metadata": {},
   "outputs": [
    {
     "data": {
      "text/plain": [
       "0     Craft-repair\n",
       "Name: Occupation, dtype: object"
      ]
     },
     "execution_count": 22,
     "metadata": {},
     "output_type": "execute_result"
    }
   ],
   "source": [
    "# occupations where 'workclass' is ' Private'\n",
    "df1 = data['Occupation'][data['Workclass']==' Private']\n",
    "\n",
    "df1.mode()"
   ]
  },
  {
   "cell_type": "code",
   "execution_count": 23,
   "id": "87d0c5e9",
   "metadata": {},
   "outputs": [
    {
     "data": {
      "text/plain": [
       "0"
      ]
     },
     "execution_count": 23,
     "metadata": {},
     "output_type": "execute_result"
    }
   ],
   "source": [
    "data['Workclass'].fillna(data['Workclass'].mode()[0], inplace=True)\n",
    "data['Workclass'].isnull().sum()"
   ]
  },
  {
   "cell_type": "code",
   "execution_count": 24,
   "id": "09f1bfa9",
   "metadata": {},
   "outputs": [
    {
     "data": {
      "text/plain": [
       "0"
      ]
     },
     "execution_count": 24,
     "metadata": {},
     "output_type": "execute_result"
    }
   ],
   "source": [
    "data['Occupation'].fillna(' Craft-repair', inplace=True)\n",
    "data['Occupation'].isnull().sum()"
   ]
  },
  {
   "cell_type": "code",
   "execution_count": 25,
   "id": "0efeef15",
   "metadata": {},
   "outputs": [
    {
     "data": {
      "text/plain": [
       "0"
      ]
     },
     "execution_count": 25,
     "metadata": {},
     "output_type": "execute_result"
    }
   ],
   "source": [
    "data['Native_country'].fillna(data['Native_country'].mode()[0], inplace=True)\n",
    "data['Native_country'].isnull().sum()"
   ]
  },
  {
   "cell_type": "code",
   "execution_count": 26,
   "id": "ebb3f721",
   "metadata": {},
   "outputs": [
    {
     "data": {
      "text/html": [
       "<div>\n",
       "<style scoped>\n",
       "    .dataframe tbody tr th:only-of-type {\n",
       "        vertical-align: middle;\n",
       "    }\n",
       "\n",
       "    .dataframe tbody tr th {\n",
       "        vertical-align: top;\n",
       "    }\n",
       "\n",
       "    .dataframe thead th {\n",
       "        text-align: right;\n",
       "    }\n",
       "</style>\n",
       "<table border=\"1\" class=\"dataframe\">\n",
       "  <thead>\n",
       "    <tr style=\"text-align: right;\">\n",
       "      <th></th>\n",
       "      <th>Age</th>\n",
       "      <th>Fnlwgt</th>\n",
       "      <th>Education_num</th>\n",
       "      <th>Capital_gain</th>\n",
       "      <th>Capital_loss</th>\n",
       "      <th>Hours_per_week</th>\n",
       "    </tr>\n",
       "  </thead>\n",
       "  <tbody>\n",
       "    <tr>\n",
       "      <th>count</th>\n",
       "      <td>32536.000000</td>\n",
       "      <td>3.253600e+04</td>\n",
       "      <td>32536.000000</td>\n",
       "      <td>32536.000000</td>\n",
       "      <td>32536.000000</td>\n",
       "      <td>32536.000000</td>\n",
       "    </tr>\n",
       "    <tr>\n",
       "      <th>mean</th>\n",
       "      <td>38.585536</td>\n",
       "      <td>1.897843e+05</td>\n",
       "      <td>10.081725</td>\n",
       "      <td>1078.410069</td>\n",
       "      <td>87.370912</td>\n",
       "      <td>40.440343</td>\n",
       "    </tr>\n",
       "    <tr>\n",
       "      <th>std</th>\n",
       "      <td>13.638193</td>\n",
       "      <td>1.055563e+05</td>\n",
       "      <td>2.571622</td>\n",
       "      <td>7388.068465</td>\n",
       "      <td>403.107737</td>\n",
       "      <td>12.347079</td>\n",
       "    </tr>\n",
       "    <tr>\n",
       "      <th>min</th>\n",
       "      <td>17.000000</td>\n",
       "      <td>1.228500e+04</td>\n",
       "      <td>1.000000</td>\n",
       "      <td>0.000000</td>\n",
       "      <td>0.000000</td>\n",
       "      <td>1.000000</td>\n",
       "    </tr>\n",
       "    <tr>\n",
       "      <th>25%</th>\n",
       "      <td>28.000000</td>\n",
       "      <td>1.178315e+05</td>\n",
       "      <td>9.000000</td>\n",
       "      <td>0.000000</td>\n",
       "      <td>0.000000</td>\n",
       "      <td>40.000000</td>\n",
       "    </tr>\n",
       "    <tr>\n",
       "      <th>50%</th>\n",
       "      <td>37.000000</td>\n",
       "      <td>1.783560e+05</td>\n",
       "      <td>10.000000</td>\n",
       "      <td>0.000000</td>\n",
       "      <td>0.000000</td>\n",
       "      <td>40.000000</td>\n",
       "    </tr>\n",
       "    <tr>\n",
       "      <th>75%</th>\n",
       "      <td>48.000000</td>\n",
       "      <td>2.369932e+05</td>\n",
       "      <td>12.000000</td>\n",
       "      <td>0.000000</td>\n",
       "      <td>0.000000</td>\n",
       "      <td>45.000000</td>\n",
       "    </tr>\n",
       "    <tr>\n",
       "      <th>max</th>\n",
       "      <td>90.000000</td>\n",
       "      <td>1.484705e+06</td>\n",
       "      <td>16.000000</td>\n",
       "      <td>99999.000000</td>\n",
       "      <td>4356.000000</td>\n",
       "      <td>99.000000</td>\n",
       "    </tr>\n",
       "  </tbody>\n",
       "</table>\n",
       "</div>"
      ],
      "text/plain": [
       "                Age        Fnlwgt  Education_num  Capital_gain  Capital_loss  \\\n",
       "count  32536.000000  3.253600e+04   32536.000000  32536.000000  32536.000000   \n",
       "mean      38.585536  1.897843e+05      10.081725   1078.410069     87.370912   \n",
       "std       13.638193  1.055563e+05       2.571622   7388.068465    403.107737   \n",
       "min       17.000000  1.228500e+04       1.000000      0.000000      0.000000   \n",
       "25%       28.000000  1.178315e+05       9.000000      0.000000      0.000000   \n",
       "50%       37.000000  1.783560e+05      10.000000      0.000000      0.000000   \n",
       "75%       48.000000  2.369932e+05      12.000000      0.000000      0.000000   \n",
       "max       90.000000  1.484705e+06      16.000000  99999.000000   4356.000000   \n",
       "\n",
       "       Hours_per_week  \n",
       "count    32536.000000  \n",
       "mean        40.440343  \n",
       "std         12.347079  \n",
       "min          1.000000  \n",
       "25%         40.000000  \n",
       "50%         40.000000  \n",
       "75%         45.000000  \n",
       "max         99.000000  "
      ]
     },
     "execution_count": 26,
     "metadata": {},
     "output_type": "execute_result"
    }
   ],
   "source": [
    "data.describe()"
   ]
  },
  {
   "cell_type": "markdown",
   "id": "7a61d094",
   "metadata": {},
   "source": [
    "Capital_gain and Capital_loss looks weird. Have to take care of it. Hours_per_week also having some of the outliers ."
   ]
  },
  {
   "cell_type": "code",
   "execution_count": null,
   "id": "0c1b02d8",
   "metadata": {},
   "outputs": [],
   "source": []
  },
  {
   "cell_type": "code",
   "execution_count": 27,
   "id": "93893e79",
   "metadata": {},
   "outputs": [
    {
     "data": {
      "text/html": [
       "<div>\n",
       "<style scoped>\n",
       "    .dataframe tbody tr th:only-of-type {\n",
       "        vertical-align: middle;\n",
       "    }\n",
       "\n",
       "    .dataframe tbody tr th {\n",
       "        vertical-align: top;\n",
       "    }\n",
       "\n",
       "    .dataframe thead th {\n",
       "        text-align: right;\n",
       "    }\n",
       "</style>\n",
       "<table border=\"1\" class=\"dataframe\">\n",
       "  <thead>\n",
       "    <tr style=\"text-align: right;\">\n",
       "      <th></th>\n",
       "      <th>Age</th>\n",
       "      <th>Workclass</th>\n",
       "      <th>Fnlwgt</th>\n",
       "      <th>Education</th>\n",
       "      <th>Education_num</th>\n",
       "      <th>Marital_status</th>\n",
       "      <th>Occupation</th>\n",
       "      <th>Relationship</th>\n",
       "      <th>Race</th>\n",
       "      <th>Sex</th>\n",
       "      <th>Capital_gain</th>\n",
       "      <th>Capital_loss</th>\n",
       "      <th>Hours_per_week</th>\n",
       "      <th>Native_country</th>\n",
       "      <th>Income</th>\n",
       "    </tr>\n",
       "  </thead>\n",
       "  <tbody>\n",
       "    <tr>\n",
       "      <th>0</th>\n",
       "      <td>50</td>\n",
       "      <td>Self-emp-not-inc</td>\n",
       "      <td>83311</td>\n",
       "      <td>Bachelors</td>\n",
       "      <td>13</td>\n",
       "      <td>Married-civ-spouse</td>\n",
       "      <td>Exec-managerial</td>\n",
       "      <td>Husband</td>\n",
       "      <td>White</td>\n",
       "      <td>Male</td>\n",
       "      <td>0</td>\n",
       "      <td>0</td>\n",
       "      <td>13</td>\n",
       "      <td>United-States</td>\n",
       "      <td>1</td>\n",
       "    </tr>\n",
       "    <tr>\n",
       "      <th>1</th>\n",
       "      <td>38</td>\n",
       "      <td>Private</td>\n",
       "      <td>215646</td>\n",
       "      <td>HS-grad</td>\n",
       "      <td>9</td>\n",
       "      <td>Divorced</td>\n",
       "      <td>Handlers-cleaners</td>\n",
       "      <td>Not-in-family</td>\n",
       "      <td>White</td>\n",
       "      <td>Male</td>\n",
       "      <td>0</td>\n",
       "      <td>0</td>\n",
       "      <td>40</td>\n",
       "      <td>United-States</td>\n",
       "      <td>1</td>\n",
       "    </tr>\n",
       "    <tr>\n",
       "      <th>2</th>\n",
       "      <td>53</td>\n",
       "      <td>Private</td>\n",
       "      <td>234721</td>\n",
       "      <td>11th</td>\n",
       "      <td>7</td>\n",
       "      <td>Married-civ-spouse</td>\n",
       "      <td>Handlers-cleaners</td>\n",
       "      <td>Husband</td>\n",
       "      <td>Black</td>\n",
       "      <td>Male</td>\n",
       "      <td>0</td>\n",
       "      <td>0</td>\n",
       "      <td>40</td>\n",
       "      <td>United-States</td>\n",
       "      <td>1</td>\n",
       "    </tr>\n",
       "    <tr>\n",
       "      <th>3</th>\n",
       "      <td>28</td>\n",
       "      <td>Private</td>\n",
       "      <td>338409</td>\n",
       "      <td>Bachelors</td>\n",
       "      <td>13</td>\n",
       "      <td>Married-civ-spouse</td>\n",
       "      <td>Prof-specialty</td>\n",
       "      <td>Wife</td>\n",
       "      <td>Black</td>\n",
       "      <td>Female</td>\n",
       "      <td>0</td>\n",
       "      <td>0</td>\n",
       "      <td>40</td>\n",
       "      <td>Cuba</td>\n",
       "      <td>1</td>\n",
       "    </tr>\n",
       "    <tr>\n",
       "      <th>4</th>\n",
       "      <td>37</td>\n",
       "      <td>Private</td>\n",
       "      <td>284582</td>\n",
       "      <td>Masters</td>\n",
       "      <td>14</td>\n",
       "      <td>Married-civ-spouse</td>\n",
       "      <td>Exec-managerial</td>\n",
       "      <td>Wife</td>\n",
       "      <td>White</td>\n",
       "      <td>Female</td>\n",
       "      <td>0</td>\n",
       "      <td>0</td>\n",
       "      <td>40</td>\n",
       "      <td>United-States</td>\n",
       "      <td>1</td>\n",
       "    </tr>\n",
       "  </tbody>\n",
       "</table>\n",
       "</div>"
      ],
      "text/plain": [
       "   Age          Workclass  Fnlwgt   Education  Education_num  \\\n",
       "0   50   Self-emp-not-inc   83311   Bachelors             13   \n",
       "1   38            Private  215646     HS-grad              9   \n",
       "2   53            Private  234721        11th              7   \n",
       "3   28            Private  338409   Bachelors             13   \n",
       "4   37            Private  284582     Masters             14   \n",
       "\n",
       "        Marital_status          Occupation    Relationship    Race      Sex  \\\n",
       "0   Married-civ-spouse     Exec-managerial         Husband   White     Male   \n",
       "1             Divorced   Handlers-cleaners   Not-in-family   White     Male   \n",
       "2   Married-civ-spouse   Handlers-cleaners         Husband   Black     Male   \n",
       "3   Married-civ-spouse      Prof-specialty            Wife   Black   Female   \n",
       "4   Married-civ-spouse     Exec-managerial            Wife   White   Female   \n",
       "\n",
       "   Capital_gain  Capital_loss  Hours_per_week  Native_country  Income  \n",
       "0             0             0              13   United-States       1  \n",
       "1             0             0              40   United-States       1  \n",
       "2             0             0              40   United-States       1  \n",
       "3             0             0              40            Cuba       1  \n",
       "4             0             0              40   United-States       1  "
      ]
     },
     "execution_count": 27,
     "metadata": {},
     "output_type": "execute_result"
    }
   ],
   "source": [
    "#relacing income with 0 and 1\n",
    "\n",
    "data = data.replace([\">50K\", \"<=50K\"], [0, 1], regex = True)\n",
    "data.head()"
   ]
  },
  {
   "cell_type": "code",
   "execution_count": 28,
   "id": "7cbcefdf",
   "metadata": {},
   "outputs": [
    {
     "data": {
      "text/plain": [
       "<AxesSubplot:xlabel='Income', ylabel='count'>"
      ]
     },
     "execution_count": 28,
     "metadata": {},
     "output_type": "execute_result"
    },
    {
     "data": {
      "image/png": "[encoded data removed]",
      "text/plain": [
       "<Figure size 432x288 with 1 Axes>"
      ]
     },
     "metadata": {
      "needs_background": "light"
     },
     "output_type": "display_data"
    }
   ],
   "source": [
    "#checking for data balance\n",
    "\n",
    "sns.countplot(data[\"Income\"])\n"
   ]
  },
  {
   "cell_type": "markdown",
   "id": "f316e6f5",
   "metadata": {},
   "source": [
    "Data is highly imbalaced."
   ]
  },
  {
   "cell_type": "code",
   "execution_count": 29,
   "id": "f7f7bd6d",
   "metadata": {},
   "outputs": [],
   "source": [
    "#blancing the data using undersampling\n",
    "\n",
    "count1, count0 = data.Income.value_counts()\n",
    "data0 = data[data['Income'] == 0]\n",
    "data1 = data[data['Income'] == 1]\n",
    "data1_under = data1.sample(count0)\n",
    "newData = pd.concat([data1_under, data0], axis=0)"
   ]
  },
  {
   "cell_type": "code",
   "execution_count": 30,
   "id": "45ccadc4",
   "metadata": {},
   "outputs": [
    {
     "data": {
      "text/plain": [
       "<AxesSubplot:xlabel='Income', ylabel='count'>"
      ]
     },
     "execution_count": 30,
     "metadata": {},
     "output_type": "execute_result"
    },
    {
     "data": {
      "image/png": "[encoded data removed]",
      "text/plain": [
       "<Figure size 432x288 with 1 Axes>"
      ]
     },
     "metadata": {
      "needs_background": "light"
     },
     "output_type": "display_data"
    }
   ],
   "source": [
    "sns.countplot(newData[\"Income\"])"
   ]
  },
  {
   "cell_type": "markdown",
   "id": "e58ca1e9",
   "metadata": {},
   "source": [
    "now it is perfectly balanced good to go."
   ]
  },
  {
   "cell_type": "code",
   "execution_count": 31,
   "id": "db3b4687",
   "metadata": {},
   "outputs": [],
   "source": [
    "newData=data"
   ]
  },
  {
   "cell_type": "code",
   "execution_count": 32,
   "id": "06414389",
   "metadata": {},
   "outputs": [
    {
     "data": {
      "text/html": [
       "<div>\n",
       "<style scoped>\n",
       "    .dataframe tbody tr th:only-of-type {\n",
       "        vertical-align: middle;\n",
       "    }\n",
       "\n",
       "    .dataframe tbody tr th {\n",
       "        vertical-align: top;\n",
       "    }\n",
       "\n",
       "    .dataframe thead th {\n",
       "        text-align: right;\n",
       "    }\n",
       "</style>\n",
       "<table border=\"1\" class=\"dataframe\">\n",
       "  <thead>\n",
       "    <tr style=\"text-align: right;\">\n",
       "      <th></th>\n",
       "      <th>Age</th>\n",
       "      <th>Workclass</th>\n",
       "      <th>Fnlwgt</th>\n",
       "      <th>Education</th>\n",
       "      <th>Education_num</th>\n",
       "      <th>Marital_status</th>\n",
       "      <th>Occupation</th>\n",
       "      <th>Relationship</th>\n",
       "      <th>Race</th>\n",
       "      <th>Sex</th>\n",
       "      <th>Capital_gain</th>\n",
       "      <th>Capital_loss</th>\n",
       "      <th>Hours_per_week</th>\n",
       "      <th>Native_country</th>\n",
       "      <th>Income</th>\n",
       "    </tr>\n",
       "  </thead>\n",
       "  <tbody>\n",
       "    <tr>\n",
       "      <th>0</th>\n",
       "      <td>50</td>\n",
       "      <td>Self-emp-not-inc</td>\n",
       "      <td>83311</td>\n",
       "      <td>Bachelors</td>\n",
       "      <td>13</td>\n",
       "      <td>Married-civ-spouse</td>\n",
       "      <td>Exec-managerial</td>\n",
       "      <td>Husband</td>\n",
       "      <td>White</td>\n",
       "      <td>Male</td>\n",
       "      <td>0</td>\n",
       "      <td>0</td>\n",
       "      <td>13</td>\n",
       "      <td>United-States</td>\n",
       "      <td>1</td>\n",
       "    </tr>\n",
       "    <tr>\n",
       "      <th>1</th>\n",
       "      <td>38</td>\n",
       "      <td>Private</td>\n",
       "      <td>215646</td>\n",
       "      <td>HS-grad</td>\n",
       "      <td>9</td>\n",
       "      <td>Divorced</td>\n",
       "      <td>Handlers-cleaners</td>\n",
       "      <td>Not-in-family</td>\n",
       "      <td>White</td>\n",
       "      <td>Male</td>\n",
       "      <td>0</td>\n",
       "      <td>0</td>\n",
       "      <td>40</td>\n",
       "      <td>United-States</td>\n",
       "      <td>1</td>\n",
       "    </tr>\n",
       "    <tr>\n",
       "      <th>2</th>\n",
       "      <td>53</td>\n",
       "      <td>Private</td>\n",
       "      <td>234721</td>\n",
       "      <td>11th</td>\n",
       "      <td>7</td>\n",
       "      <td>Married-civ-spouse</td>\n",
       "      <td>Handlers-cleaners</td>\n",
       "      <td>Husband</td>\n",
       "      <td>Black</td>\n",
       "      <td>Male</td>\n",
       "      <td>0</td>\n",
       "      <td>0</td>\n",
       "      <td>40</td>\n",
       "      <td>United-States</td>\n",
       "      <td>1</td>\n",
       "    </tr>\n",
       "    <tr>\n",
       "      <th>3</th>\n",
       "      <td>28</td>\n",
       "      <td>Private</td>\n",
       "      <td>338409</td>\n",
       "      <td>Bachelors</td>\n",
       "      <td>13</td>\n",
       "      <td>Married-civ-spouse</td>\n",
       "      <td>Prof-specialty</td>\n",
       "      <td>Wife</td>\n",
       "      <td>Black</td>\n",
       "      <td>Female</td>\n",
       "      <td>0</td>\n",
       "      <td>0</td>\n",
       "      <td>40</td>\n",
       "      <td>Cuba</td>\n",
       "      <td>1</td>\n",
       "    </tr>\n",
       "    <tr>\n",
       "      <th>4</th>\n",
       "      <td>37</td>\n",
       "      <td>Private</td>\n",
       "      <td>284582</td>\n",
       "      <td>Masters</td>\n",
       "      <td>14</td>\n",
       "      <td>Married-civ-spouse</td>\n",
       "      <td>Exec-managerial</td>\n",
       "      <td>Wife</td>\n",
       "      <td>White</td>\n",
       "      <td>Female</td>\n",
       "      <td>0</td>\n",
       "      <td>0</td>\n",
       "      <td>40</td>\n",
       "      <td>United-States</td>\n",
       "      <td>1</td>\n",
       "    </tr>\n",
       "  </tbody>\n",
       "</table>\n",
       "</div>"
      ],
      "text/plain": [
       "   Age          Workclass  Fnlwgt   Education  Education_num  \\\n",
       "0   50   Self-emp-not-inc   83311   Bachelors             13   \n",
       "1   38            Private  215646     HS-grad              9   \n",
       "2   53            Private  234721        11th              7   \n",
       "3   28            Private  338409   Bachelors             13   \n",
       "4   37            Private  284582     Masters             14   \n",
       "\n",
       "        Marital_status          Occupation    Relationship    Race      Sex  \\\n",
       "0   Married-civ-spouse     Exec-managerial         Husband   White     Male   \n",
       "1             Divorced   Handlers-cleaners   Not-in-family   White     Male   \n",
       "2   Married-civ-spouse   Handlers-cleaners         Husband   Black     Male   \n",
       "3   Married-civ-spouse      Prof-specialty            Wife   Black   Female   \n",
       "4   Married-civ-spouse     Exec-managerial            Wife   White   Female   \n",
       "\n",
       "   Capital_gain  Capital_loss  Hours_per_week  Native_country  Income  \n",
       "0             0             0              13   United-States       1  \n",
       "1             0             0              40   United-States       1  \n",
       "2             0             0              40   United-States       1  \n",
       "3             0             0              40            Cuba       1  \n",
       "4             0             0              40   United-States       1  "
      ]
     },
     "execution_count": 32,
     "metadata": {},
     "output_type": "execute_result"
    }
   ],
   "source": [
    "data.head()"
   ]
  },
  {
   "cell_type": "code",
   "execution_count": 33,
   "id": "c703dafe",
   "metadata": {},
   "outputs": [
    {
     "data": {
      "image/png": "[encoded data removed]",
      "text/plain": [
       "<Figure size 432x288 with 1 Axes>"
      ]
     },
     "metadata": {
      "needs_background": "light"
     },
     "output_type": "display_data"
    }
   ],
   "source": [
    "# How the target variable is distributed\n",
    "ax = sns.countplot(data['Income'], hue=data['Sex'])"
   ]
  },
  {
   "cell_type": "markdown",
   "id": "3b5b4c00",
   "metadata": {},
   "source": [
    "There are very few women having an income of greater than 50k in comparison with men.\n",
    "\n"
   ]
  },
  {
   "cell_type": "code",
   "execution_count": 34,
   "id": "6be00344",
   "metadata": {},
   "outputs": [
    {
     "data": {
      "image/png": "[encoded data removed]",
      "text/plain": [
       "<Figure size 720x432 with 1 Axes>"
      ]
     },
     "metadata": {
      "needs_background": "light"
     },
     "output_type": "display_data"
    }
   ],
   "source": [
    "fig = plt.figure(figsize=(10, 6))\n",
    "ax = sns.countplot(data=data,y='Workclass', hue='Income')"
   ]
  },
  {
   "cell_type": "markdown",
   "id": "1cf00559",
   "metadata": {},
   "source": [
    "Only in Self-emp-inc the number of >=50k income is higher than <50k income.\n"
   ]
  },
  {
   "cell_type": "code",
   "execution_count": 35,
   "id": "5a5cd8d2",
   "metadata": {},
   "outputs": [
    {
     "data": {
      "image/png": "[encoded data removed]",
      "text/plain": [
       "<Figure size 1080x576 with 1 Axes>"
      ]
     },
     "metadata": {
      "needs_background": "light"
     },
     "output_type": "display_data"
    }
   ],
   "source": [
    "plt.figure(figsize=(15, 8))\n",
    "ax = sns.countplot(data=data,y='Education', hue='Income')"
   ]
  },
  {
   "cell_type": "markdown",
   "id": "9688b6ae",
   "metadata": {},
   "source": [
    "Most of employees who are in masters, doctorate or prof-shcool categories have higher income. (>=50k)\n",
    "Most of HS-grads have an income of <50k, and many more...\n",
    "\n"
   ]
  },
  {
   "cell_type": "code",
   "execution_count": 36,
   "id": "19e31d0f",
   "metadata": {},
   "outputs": [
    {
     "data": {
      "image/png": "[encoded data removed]",
      "text/plain": [
       "<Figure size 1080x576 with 1 Axes>"
      ]
     },
     "metadata": {
      "needs_background": "light"
     },
     "output_type": "display_data"
    }
   ],
   "source": [
    "plt.figure(figsize=(15, 8))\n",
    "ax = sns.countplot(data=data,y='Race', hue='Income')"
   ]
  },
  {
   "cell_type": "code",
   "execution_count": null,
   "id": "f4dd7d55",
   "metadata": {},
   "outputs": [],
   "source": []
  },
  {
   "cell_type": "code",
   "execution_count": 37,
   "id": "b23b32c0",
   "metadata": {},
   "outputs": [
    {
     "data": {
      "text/plain": [
       "<seaborn.axisgrid.FacetGrid at 0x293114f0070>"
      ]
     },
     "execution_count": 37,
     "metadata": {},
     "output_type": "execute_result"
    },
    {
     "data": {
      "image/png": "[encoded data removed]",
      "text/plain": [
       "<Figure size 656.5x612 with 1 Axes>"
      ]
     },
     "metadata": {
      "needs_background": "light"
     },
     "output_type": "display_data"
    }
   ],
   "source": [
    "sns.displot(data=data, x=\"Age\", hue=\"Income\", kind=\"kde\", height=8.5, aspect=1)\n"
   ]
  },
  {
   "cell_type": "code",
   "execution_count": 38,
   "id": "556e210c",
   "metadata": {},
   "outputs": [
    {
     "data": {
      "text/plain": [
       "<seaborn.axisgrid.FacetGrid at 0x29311435280>"
      ]
     },
     "execution_count": 38,
     "metadata": {},
     "output_type": "execute_result"
    },
    {
     "data": {
      "image/png": "[encoded data removed]",
      "text/plain": [
       "<Figure size 656.5x612 with 1 Axes>"
      ]
     },
     "metadata": {
      "needs_background": "light"
     },
     "output_type": "display_data"
    }
   ],
   "source": [
    "sns.displot(data=data, x=\"Fnlwgt\", hue=\"Income\", kind=\"kde\", height=8.5, aspect=1)\n"
   ]
  },
  {
   "cell_type": "markdown",
   "id": "1523a26f",
   "metadata": {},
   "source": [
    "seeems to be right skewed."
   ]
  },
  {
   "cell_type": "code",
   "execution_count": 39,
   "id": "b50d91d0",
   "metadata": {},
   "outputs": [
    {
     "data": {
      "text/plain": [
       "<AxesSubplot:ylabel='Age'>"
      ]
     },
     "execution_count": 39,
     "metadata": {},
     "output_type": "execute_result"
    },
    {
     "data": {
      "image/png": "[encoded data removed]",
      "text/plain": [
       "<Figure size 1080x576 with 1 Axes>"
      ]
     },
     "metadata": {
      "needs_background": "light"
     },
     "output_type": "display_data"
    }
   ],
   "source": [
    "plt.figure(figsize=(15,8))\n",
    "sns.boxplot(data=data, y=\"Age\")\n"
   ]
  },
  {
   "cell_type": "markdown",
   "id": "4d351e7a",
   "metadata": {},
   "source": [
    "outliers detected.we will remove outliers"
   ]
  },
  {
   "cell_type": "code",
   "execution_count": 40,
   "id": "567f98d4",
   "metadata": {},
   "outputs": [
    {
     "data": {
      "text/plain": [
       "(2031, 15)"
      ]
     },
     "execution_count": 40,
     "metadata": {},
     "output_type": "execute_result"
    }
   ],
   "source": [
    "outAge = data[data['Age'] > 61]\n",
    "outAge.shape #get number of rows with outliers (Q3 + 1.5(Q3 - Q1))"
   ]
  },
  {
   "cell_type": "code",
   "execution_count": 41,
   "id": "a0cb1a59",
   "metadata": {},
   "outputs": [],
   "source": [
    "data.drop(outAge.index, inplace = True)\n"
   ]
  },
  {
   "cell_type": "code",
   "execution_count": 42,
   "id": "adaff143",
   "metadata": {},
   "outputs": [
    {
     "data": {
      "image/png": "[encoded data removed]",
      "text/plain": [
       "<Figure size 1080x720 with 1 Axes>"
      ]
     },
     "metadata": {
      "needs_background": "light"
     },
     "output_type": "display_data"
    }
   ],
   "source": [
    "plt.figure(figsize=(15,10))\n",
    "sns.distplot(data['Education_num'])\n",
    "plt.show()"
   ]
  },
  {
   "cell_type": "markdown",
   "id": "017b9372",
   "metadata": {},
   "source": [
    "education_num is left skewed. having some of the outliers we will remove it."
   ]
  },
  {
   "cell_type": "code",
   "execution_count": 43,
   "id": "cc11ce2f",
   "metadata": {},
   "outputs": [
    {
     "data": {
      "text/plain": [
       "(474, 15)"
      ]
     },
     "execution_count": 43,
     "metadata": {},
     "output_type": "execute_result"
    }
   ],
   "source": [
    "outEdu = data[data['Education_num'] < 3.5]\n",
    "outEdu.shape #get number of rows with outliers (Q1 - 1.5(Q3 - Q1))"
   ]
  },
  {
   "cell_type": "code",
   "execution_count": 44,
   "id": "9137ec01",
   "metadata": {},
   "outputs": [
    {
     "data": {
      "image/png": "[encoded data removed]",
      "text/plain": [
       "<Figure size 1080x720 with 1 Axes>"
      ]
     },
     "metadata": {
      "needs_background": "light"
     },
     "output_type": "display_data"
    }
   ],
   "source": [
    "plt.figure(figsize=(15,10))\n",
    "sns.distplot(data['Education_num'])\n",
    "plt.show()"
   ]
  },
  {
   "cell_type": "code",
   "execution_count": 45,
   "id": "27be863f",
   "metadata": {},
   "outputs": [],
   "source": [
    "data.drop(outEdu.index, inplace = True)\n"
   ]
  },
  {
   "cell_type": "code",
   "execution_count": 46,
   "id": "5da8b941",
   "metadata": {},
   "outputs": [
    {
     "data": {
      "text/html": [
       "<div>\n",
       "<style scoped>\n",
       "    .dataframe tbody tr th:only-of-type {\n",
       "        vertical-align: middle;\n",
       "    }\n",
       "\n",
       "    .dataframe tbody tr th {\n",
       "        vertical-align: top;\n",
       "    }\n",
       "\n",
       "    .dataframe thead th {\n",
       "        text-align: right;\n",
       "    }\n",
       "</style>\n",
       "<table border=\"1\" class=\"dataframe\">\n",
       "  <thead>\n",
       "    <tr style=\"text-align: right;\">\n",
       "      <th></th>\n",
       "      <th>Age</th>\n",
       "      <th>Workclass</th>\n",
       "      <th>Education_num</th>\n",
       "      <th>Marital_status</th>\n",
       "      <th>Occupation</th>\n",
       "      <th>Relationship</th>\n",
       "      <th>Race</th>\n",
       "      <th>Sex</th>\n",
       "      <th>Capital_gain</th>\n",
       "      <th>Capital_loss</th>\n",
       "      <th>Hours_per_week</th>\n",
       "      <th>Native_country</th>\n",
       "      <th>Income</th>\n",
       "    </tr>\n",
       "  </thead>\n",
       "  <tbody>\n",
       "    <tr>\n",
       "      <th>0</th>\n",
       "      <td>50</td>\n",
       "      <td>Self-emp-not-inc</td>\n",
       "      <td>13</td>\n",
       "      <td>Married-civ-spouse</td>\n",
       "      <td>Exec-managerial</td>\n",
       "      <td>Husband</td>\n",
       "      <td>White</td>\n",
       "      <td>Male</td>\n",
       "      <td>0</td>\n",
       "      <td>0</td>\n",
       "      <td>13</td>\n",
       "      <td>United-States</td>\n",
       "      <td>1</td>\n",
       "    </tr>\n",
       "    <tr>\n",
       "      <th>1</th>\n",
       "      <td>38</td>\n",
       "      <td>Private</td>\n",
       "      <td>9</td>\n",
       "      <td>Divorced</td>\n",
       "      <td>Handlers-cleaners</td>\n",
       "      <td>Not-in-family</td>\n",
       "      <td>White</td>\n",
       "      <td>Male</td>\n",
       "      <td>0</td>\n",
       "      <td>0</td>\n",
       "      <td>40</td>\n",
       "      <td>United-States</td>\n",
       "      <td>1</td>\n",
       "    </tr>\n",
       "    <tr>\n",
       "      <th>2</th>\n",
       "      <td>53</td>\n",
       "      <td>Private</td>\n",
       "      <td>7</td>\n",
       "      <td>Married-civ-spouse</td>\n",
       "      <td>Handlers-cleaners</td>\n",
       "      <td>Husband</td>\n",
       "      <td>Black</td>\n",
       "      <td>Male</td>\n",
       "      <td>0</td>\n",
       "      <td>0</td>\n",
       "      <td>40</td>\n",
       "      <td>United-States</td>\n",
       "      <td>1</td>\n",
       "    </tr>\n",
       "    <tr>\n",
       "      <th>3</th>\n",
       "      <td>28</td>\n",
       "      <td>Private</td>\n",
       "      <td>13</td>\n",
       "      <td>Married-civ-spouse</td>\n",
       "      <td>Prof-specialty</td>\n",
       "      <td>Wife</td>\n",
       "      <td>Black</td>\n",
       "      <td>Female</td>\n",
       "      <td>0</td>\n",
       "      <td>0</td>\n",
       "      <td>40</td>\n",
       "      <td>Cuba</td>\n",
       "      <td>1</td>\n",
       "    </tr>\n",
       "    <tr>\n",
       "      <th>4</th>\n",
       "      <td>37</td>\n",
       "      <td>Private</td>\n",
       "      <td>14</td>\n",
       "      <td>Married-civ-spouse</td>\n",
       "      <td>Exec-managerial</td>\n",
       "      <td>Wife</td>\n",
       "      <td>White</td>\n",
       "      <td>Female</td>\n",
       "      <td>0</td>\n",
       "      <td>0</td>\n",
       "      <td>40</td>\n",
       "      <td>United-States</td>\n",
       "      <td>1</td>\n",
       "    </tr>\n",
       "  </tbody>\n",
       "</table>\n",
       "</div>"
      ],
      "text/plain": [
       "   Age          Workclass  Education_num       Marital_status  \\\n",
       "0   50   Self-emp-not-inc             13   Married-civ-spouse   \n",
       "1   38            Private              9             Divorced   \n",
       "2   53            Private              7   Married-civ-spouse   \n",
       "3   28            Private             13   Married-civ-spouse   \n",
       "4   37            Private             14   Married-civ-spouse   \n",
       "\n",
       "           Occupation    Relationship    Race      Sex  Capital_gain  \\\n",
       "0     Exec-managerial         Husband   White     Male             0   \n",
       "1   Handlers-cleaners   Not-in-family   White     Male             0   \n",
       "2   Handlers-cleaners         Husband   Black     Male             0   \n",
       "3      Prof-specialty            Wife   Black   Female             0   \n",
       "4     Exec-managerial            Wife   White   Female             0   \n",
       "\n",
       "   Capital_loss  Hours_per_week  Native_country  Income  \n",
       "0             0              13   United-States       1  \n",
       "1             0              40   United-States       1  \n",
       "2             0              40   United-States       1  \n",
       "3             0              40            Cuba       1  \n",
       "4             0              40   United-States       1  "
      ]
     },
     "execution_count": 46,
     "metadata": {},
     "output_type": "execute_result"
    }
   ],
   "source": [
    "# fnlwgt sampling weight, this is the number of people the census believes the entry represents, which doesnot help in predicting income, hence dropping it.\n",
    "# The column education is just a string representation of the column education-num. We will drop the education column.\n",
    "data.drop(['Fnlwgt', 'Education'], axis=1, inplace=True)\n",
    "data.head()"
   ]
  },
  {
   "cell_type": "code",
   "execution_count": 47,
   "id": "e383ee75",
   "metadata": {},
   "outputs": [
    {
     "data": {
      "image/png": "[encoded data removed]",
      "text/plain": [
       "<Figure size 1440x1080 with 2 Axes>"
      ]
     },
     "metadata": {
      "needs_background": "light"
     },
     "output_type": "display_data"
    }
   ],
   "source": [
    "#checking correlation between features using heatmap:\n",
    "\n",
    "plt.figure(figsize = (20,15))  \n",
    "sns.heatmap(data.corr(),annot = True)\n",
    "plt.show()"
   ]
  },
  {
   "cell_type": "markdown",
   "id": "980030f0",
   "metadata": {},
   "source": [
    "seems no correlation between features"
   ]
  },
  {
   "cell_type": "code",
   "execution_count": 48,
   "id": "b4a8311f",
   "metadata": {},
   "outputs": [],
   "source": [
    "from sklearn.preprocessing import OneHotEncoder"
   ]
  },
  {
   "cell_type": "code",
   "execution_count": 49,
   "id": "c7d2290c",
   "metadata": {},
   "outputs": [],
   "source": [
    "ohe=OneHotEncoder()"
   ]
  },
  {
   "cell_type": "code",
   "execution_count": 50,
   "id": "687e5dbd",
   "metadata": {},
   "outputs": [],
   "source": [
    "#creating dummies for categorical features:\n",
    "\n",
    "dummy1 = pd.get_dummies(data[['Workclass', 'Marital_status', 'Occupation', 'Occupation','Relationship','Race','Sex','Native_country']], drop_first=True)\n",
    "\n",
    "# Adding the results to the dataframe\n",
    "data= pd.concat([data, dummy1], axis=1)"
   ]
  },
  {
   "cell_type": "code",
   "execution_count": 51,
   "id": "993d691e",
   "metadata": {},
   "outputs": [
    {
     "data": {
      "text/html": [
       "<div>\n",
       "<style scoped>\n",
       "    .dataframe tbody tr th:only-of-type {\n",
       "        vertical-align: middle;\n",
       "    }\n",
       "\n",
       "    .dataframe tbody tr th {\n",
       "        vertical-align: top;\n",
       "    }\n",
       "\n",
       "    .dataframe thead th {\n",
       "        text-align: right;\n",
       "    }\n",
       "</style>\n",
       "<table border=\"1\" class=\"dataframe\">\n",
       "  <thead>\n",
       "    <tr style=\"text-align: right;\">\n",
       "      <th></th>\n",
       "      <th>Age</th>\n",
       "      <th>Workclass</th>\n",
       "      <th>Education_num</th>\n",
       "      <th>Marital_status</th>\n",
       "      <th>Occupation</th>\n",
       "      <th>Relationship</th>\n",
       "      <th>Race</th>\n",
       "      <th>Sex</th>\n",
       "      <th>Capital_gain</th>\n",
       "      <th>Capital_loss</th>\n",
       "      <th>...</th>\n",
       "      <th>Native_country_ Portugal</th>\n",
       "      <th>Native_country_ Puerto-Rico</th>\n",
       "      <th>Native_country_ Scotland</th>\n",
       "      <th>Native_country_ South</th>\n",
       "      <th>Native_country_ Taiwan</th>\n",
       "      <th>Native_country_ Thailand</th>\n",
       "      <th>Native_country_ Trinadad&amp;Tobago</th>\n",
       "      <th>Native_country_ United-States</th>\n",
       "      <th>Native_country_ Vietnam</th>\n",
       "      <th>Native_country_ Yugoslavia</th>\n",
       "    </tr>\n",
       "  </thead>\n",
       "  <tbody>\n",
       "    <tr>\n",
       "      <th>0</th>\n",
       "      <td>50</td>\n",
       "      <td>Self-emp-not-inc</td>\n",
       "      <td>13</td>\n",
       "      <td>Married-civ-spouse</td>\n",
       "      <td>Exec-managerial</td>\n",
       "      <td>Husband</td>\n",
       "      <td>White</td>\n",
       "      <td>Male</td>\n",
       "      <td>0</td>\n",
       "      <td>0</td>\n",
       "      <td>...</td>\n",
       "      <td>0</td>\n",
       "      <td>0</td>\n",
       "      <td>0</td>\n",
       "      <td>0</td>\n",
       "      <td>0</td>\n",
       "      <td>0</td>\n",
       "      <td>0</td>\n",
       "      <td>1</td>\n",
       "      <td>0</td>\n",
       "      <td>0</td>\n",
       "    </tr>\n",
       "    <tr>\n",
       "      <th>1</th>\n",
       "      <td>38</td>\n",
       "      <td>Private</td>\n",
       "      <td>9</td>\n",
       "      <td>Divorced</td>\n",
       "      <td>Handlers-cleaners</td>\n",
       "      <td>Not-in-family</td>\n",
       "      <td>White</td>\n",
       "      <td>Male</td>\n",
       "      <td>0</td>\n",
       "      <td>0</td>\n",
       "      <td>...</td>\n",
       "      <td>0</td>\n",
       "      <td>0</td>\n",
       "      <td>0</td>\n",
       "      <td>0</td>\n",
       "      <td>0</td>\n",
       "      <td>0</td>\n",
       "      <td>0</td>\n",
       "      <td>1</td>\n",
       "      <td>0</td>\n",
       "      <td>0</td>\n",
       "    </tr>\n",
       "    <tr>\n",
       "      <th>2</th>\n",
       "      <td>53</td>\n",
       "      <td>Private</td>\n",
       "      <td>7</td>\n",
       "      <td>Married-civ-spouse</td>\n",
       "      <td>Handlers-cleaners</td>\n",
       "      <td>Husband</td>\n",
       "      <td>Black</td>\n",
       "      <td>Male</td>\n",
       "      <td>0</td>\n",
       "      <td>0</td>\n",
       "      <td>...</td>\n",
       "      <td>0</td>\n",
       "      <td>0</td>\n",
       "      <td>0</td>\n",
       "      <td>0</td>\n",
       "      <td>0</td>\n",
       "      <td>0</td>\n",
       "      <td>0</td>\n",
       "      <td>1</td>\n",
       "      <td>0</td>\n",
       "      <td>0</td>\n",
       "    </tr>\n",
       "    <tr>\n",
       "      <th>3</th>\n",
       "      <td>28</td>\n",
       "      <td>Private</td>\n",
       "      <td>13</td>\n",
       "      <td>Married-civ-spouse</td>\n",
       "      <td>Prof-specialty</td>\n",
       "      <td>Wife</td>\n",
       "      <td>Black</td>\n",
       "      <td>Female</td>\n",
       "      <td>0</td>\n",
       "      <td>0</td>\n",
       "      <td>...</td>\n",
       "      <td>0</td>\n",
       "      <td>0</td>\n",
       "      <td>0</td>\n",
       "      <td>0</td>\n",
       "      <td>0</td>\n",
       "      <td>0</td>\n",
       "      <td>0</td>\n",
       "      <td>0</td>\n",
       "      <td>0</td>\n",
       "      <td>0</td>\n",
       "    </tr>\n",
       "    <tr>\n",
       "      <th>4</th>\n",
       "      <td>37</td>\n",
       "      <td>Private</td>\n",
       "      <td>14</td>\n",
       "      <td>Married-civ-spouse</td>\n",
       "      <td>Exec-managerial</td>\n",
       "      <td>Wife</td>\n",
       "      <td>White</td>\n",
       "      <td>Female</td>\n",
       "      <td>0</td>\n",
       "      <td>0</td>\n",
       "      <td>...</td>\n",
       "      <td>0</td>\n",
       "      <td>0</td>\n",
       "      <td>0</td>\n",
       "      <td>0</td>\n",
       "      <td>0</td>\n",
       "      <td>0</td>\n",
       "      <td>0</td>\n",
       "      <td>1</td>\n",
       "      <td>0</td>\n",
       "      <td>0</td>\n",
       "    </tr>\n",
       "    <tr>\n",
       "      <th>5</th>\n",
       "      <td>49</td>\n",
       "      <td>Private</td>\n",
       "      <td>5</td>\n",
       "      <td>Married-spouse-absent</td>\n",
       "      <td>Other-service</td>\n",
       "      <td>Not-in-family</td>\n",
       "      <td>Black</td>\n",
       "      <td>Female</td>\n",
       "      <td>0</td>\n",
       "      <td>0</td>\n",
       "      <td>...</td>\n",
       "      <td>0</td>\n",
       "      <td>0</td>\n",
       "      <td>0</td>\n",
       "      <td>0</td>\n",
       "      <td>0</td>\n",
       "      <td>0</td>\n",
       "      <td>0</td>\n",
       "      <td>0</td>\n",
       "      <td>0</td>\n",
       "      <td>0</td>\n",
       "    </tr>\n",
       "    <tr>\n",
       "      <th>6</th>\n",
       "      <td>52</td>\n",
       "      <td>Self-emp-not-inc</td>\n",
       "      <td>9</td>\n",
       "      <td>Married-civ-spouse</td>\n",
       "      <td>Exec-managerial</td>\n",
       "      <td>Husband</td>\n",
       "      <td>White</td>\n",
       "      <td>Male</td>\n",
       "      <td>0</td>\n",
       "      <td>0</td>\n",
       "      <td>...</td>\n",
       "      <td>0</td>\n",
       "      <td>0</td>\n",
       "      <td>0</td>\n",
       "      <td>0</td>\n",
       "      <td>0</td>\n",
       "      <td>0</td>\n",
       "      <td>0</td>\n",
       "      <td>1</td>\n",
       "      <td>0</td>\n",
       "      <td>0</td>\n",
       "    </tr>\n",
       "    <tr>\n",
       "      <th>7</th>\n",
       "      <td>31</td>\n",
       "      <td>Private</td>\n",
       "      <td>14</td>\n",
       "      <td>Never-married</td>\n",
       "      <td>Prof-specialty</td>\n",
       "      <td>Not-in-family</td>\n",
       "      <td>White</td>\n",
       "      <td>Female</td>\n",
       "      <td>14084</td>\n",
       "      <td>0</td>\n",
       "      <td>...</td>\n",
       "      <td>0</td>\n",
       "      <td>0</td>\n",
       "      <td>0</td>\n",
       "      <td>0</td>\n",
       "      <td>0</td>\n",
       "      <td>0</td>\n",
       "      <td>0</td>\n",
       "      <td>1</td>\n",
       "      <td>0</td>\n",
       "      <td>0</td>\n",
       "    </tr>\n",
       "    <tr>\n",
       "      <th>8</th>\n",
       "      <td>42</td>\n",
       "      <td>Private</td>\n",
       "      <td>13</td>\n",
       "      <td>Married-civ-spouse</td>\n",
       "      <td>Exec-managerial</td>\n",
       "      <td>Husband</td>\n",
       "      <td>White</td>\n",
       "      <td>Male</td>\n",
       "      <td>5178</td>\n",
       "      <td>0</td>\n",
       "      <td>...</td>\n",
       "      <td>0</td>\n",
       "      <td>0</td>\n",
       "      <td>0</td>\n",
       "      <td>0</td>\n",
       "      <td>0</td>\n",
       "      <td>0</td>\n",
       "      <td>0</td>\n",
       "      <td>1</td>\n",
       "      <td>0</td>\n",
       "      <td>0</td>\n",
       "    </tr>\n",
       "    <tr>\n",
       "      <th>9</th>\n",
       "      <td>37</td>\n",
       "      <td>Private</td>\n",
       "      <td>10</td>\n",
       "      <td>Married-civ-spouse</td>\n",
       "      <td>Exec-managerial</td>\n",
       "      <td>Husband</td>\n",
       "      <td>Black</td>\n",
       "      <td>Male</td>\n",
       "      <td>0</td>\n",
       "      <td>0</td>\n",
       "      <td>...</td>\n",
       "      <td>0</td>\n",
       "      <td>0</td>\n",
       "      <td>0</td>\n",
       "      <td>0</td>\n",
       "      <td>0</td>\n",
       "      <td>0</td>\n",
       "      <td>0</td>\n",
       "      <td>1</td>\n",
       "      <td>0</td>\n",
       "      <td>0</td>\n",
       "    </tr>\n",
       "  </tbody>\n",
       "</table>\n",
       "<p>10 rows × 102 columns</p>\n",
       "</div>"
      ],
      "text/plain": [
       "   Age          Workclass  Education_num          Marital_status  \\\n",
       "0   50   Self-emp-not-inc             13      Married-civ-spouse   \n",
       "1   38            Private              9                Divorced   \n",
       "2   53            Private              7      Married-civ-spouse   \n",
       "3   28            Private             13      Married-civ-spouse   \n",
       "4   37            Private             14      Married-civ-spouse   \n",
       "5   49            Private              5   Married-spouse-absent   \n",
       "6   52   Self-emp-not-inc              9      Married-civ-spouse   \n",
       "7   31            Private             14           Never-married   \n",
       "8   42            Private             13      Married-civ-spouse   \n",
       "9   37            Private             10      Married-civ-spouse   \n",
       "\n",
       "           Occupation    Relationship    Race      Sex  Capital_gain  \\\n",
       "0     Exec-managerial         Husband   White     Male             0   \n",
       "1   Handlers-cleaners   Not-in-family   White     Male             0   \n",
       "2   Handlers-cleaners         Husband   Black     Male             0   \n",
       "3      Prof-specialty            Wife   Black   Female             0   \n",
       "4     Exec-managerial            Wife   White   Female             0   \n",
       "5       Other-service   Not-in-family   Black   Female             0   \n",
       "6     Exec-managerial         Husband   White     Male             0   \n",
       "7      Prof-specialty   Not-in-family   White   Female         14084   \n",
       "8     Exec-managerial         Husband   White     Male          5178   \n",
       "9     Exec-managerial         Husband   Black     Male             0   \n",
       "\n",
       "   Capital_loss  ...  Native_country_ Portugal Native_country_ Puerto-Rico  \\\n",
       "0             0  ...                         0                           0   \n",
       "1             0  ...                         0                           0   \n",
       "2             0  ...                         0                           0   \n",
       "3             0  ...                         0                           0   \n",
       "4             0  ...                         0                           0   \n",
       "5             0  ...                         0                           0   \n",
       "6             0  ...                         0                           0   \n",
       "7             0  ...                         0                           0   \n",
       "8             0  ...                         0                           0   \n",
       "9             0  ...                         0                           0   \n",
       "\n",
       "   Native_country_ Scotland  Native_country_ South  Native_country_ Taiwan  \\\n",
       "0                         0                      0                       0   \n",
       "1                         0                      0                       0   \n",
       "2                         0                      0                       0   \n",
       "3                         0                      0                       0   \n",
       "4                         0                      0                       0   \n",
       "5                         0                      0                       0   \n",
       "6                         0                      0                       0   \n",
       "7                         0                      0                       0   \n",
       "8                         0                      0                       0   \n",
       "9                         0                      0                       0   \n",
       "\n",
       "   Native_country_ Thailand  Native_country_ Trinadad&Tobago  \\\n",
       "0                         0                                0   \n",
       "1                         0                                0   \n",
       "2                         0                                0   \n",
       "3                         0                                0   \n",
       "4                         0                                0   \n",
       "5                         0                                0   \n",
       "6                         0                                0   \n",
       "7                         0                                0   \n",
       "8                         0                                0   \n",
       "9                         0                                0   \n",
       "\n",
       "   Native_country_ United-States  Native_country_ Vietnam  \\\n",
       "0                              1                        0   \n",
       "1                              1                        0   \n",
       "2                              1                        0   \n",
       "3                              0                        0   \n",
       "4                              1                        0   \n",
       "5                              0                        0   \n",
       "6                              1                        0   \n",
       "7                              1                        0   \n",
       "8                              1                        0   \n",
       "9                              1                        0   \n",
       "\n",
       "   Native_country_ Yugoslavia  \n",
       "0                           0  \n",
       "1                           0  \n",
       "2                           0  \n",
       "3                           0  \n",
       "4                           0  \n",
       "5                           0  \n",
       "6                           0  \n",
       "7                           0  \n",
       "8                           0  \n",
       "9                           0  \n",
       "\n",
       "[10 rows x 102 columns]"
      ]
     },
     "execution_count": 51,
     "metadata": {},
     "output_type": "execute_result"
    }
   ],
   "source": [
    "data.head(10)"
   ]
  },
  {
   "cell_type": "code",
   "execution_count": 52,
   "id": "1c861d03",
   "metadata": {},
   "outputs": [],
   "source": [
    "#droping categorical features:\n",
    "\n",
    "data = data.drop(['Workclass', 'Marital_status', 'Occupation', 'Occupation','Relationship','Race','Sex','Native_country'], 1)"
   ]
  },
  {
   "cell_type": "code",
   "execution_count": 53,
   "id": "72fcec93",
   "metadata": {},
   "outputs": [
    {
     "name": "stdout",
     "output_type": "stream",
     "text": [
      "<class 'pandas.core.frame.DataFrame'>\n",
      "Int64Index: 30031 entries, 0 to 32559\n",
      "Data columns (total 95 columns):\n",
      " #   Column                                      Non-Null Count  Dtype\n",
      "---  ------                                      --------------  -----\n",
      " 0   Age                                         30031 non-null  int64\n",
      " 1   Education_num                               30031 non-null  int64\n",
      " 2   Capital_gain                                30031 non-null  int64\n",
      " 3   Capital_loss                                30031 non-null  int64\n",
      " 4   Hours_per_week                              30031 non-null  int64\n",
      " 5   Income                                      30031 non-null  int64\n",
      " 6   Workclass_ Local-gov                        30031 non-null  uint8\n",
      " 7   Workclass_ Never-worked                     30031 non-null  uint8\n",
      " 8   Workclass_ Private                          30031 non-null  uint8\n",
      " 9   Workclass_ Self-emp-inc                     30031 non-null  uint8\n",
      " 10  Workclass_ Self-emp-not-inc                 30031 non-null  uint8\n",
      " 11  Workclass_ State-gov                        30031 non-null  uint8\n",
      " 12  Workclass_ Without-pay                      30031 non-null  uint8\n",
      " 13  Marital_status_ Married-AF-spouse           30031 non-null  uint8\n",
      " 14  Marital_status_ Married-civ-spouse          30031 non-null  uint8\n",
      " 15  Marital_status_ Married-spouse-absent       30031 non-null  uint8\n",
      " 16  Marital_status_ Never-married               30031 non-null  uint8\n",
      " 17  Marital_status_ Separated                   30031 non-null  uint8\n",
      " 18  Marital_status_ Widowed                     30031 non-null  uint8\n",
      " 19  Occupation_ Armed-Forces                    30031 non-null  uint8\n",
      " 20  Occupation_ Craft-repair                    30031 non-null  uint8\n",
      " 21  Occupation_ Exec-managerial                 30031 non-null  uint8\n",
      " 22  Occupation_ Farming-fishing                 30031 non-null  uint8\n",
      " 23  Occupation_ Handlers-cleaners               30031 non-null  uint8\n",
      " 24  Occupation_ Machine-op-inspct               30031 non-null  uint8\n",
      " 25  Occupation_ Other-service                   30031 non-null  uint8\n",
      " 26  Occupation_ Priv-house-serv                 30031 non-null  uint8\n",
      " 27  Occupation_ Prof-specialty                  30031 non-null  uint8\n",
      " 28  Occupation_ Protective-serv                 30031 non-null  uint8\n",
      " 29  Occupation_ Sales                           30031 non-null  uint8\n",
      " 30  Occupation_ Tech-support                    30031 non-null  uint8\n",
      " 31  Occupation_ Transport-moving                30031 non-null  uint8\n",
      " 32  Occupation_ Armed-Forces                    30031 non-null  uint8\n",
      " 33  Occupation_ Craft-repair                    30031 non-null  uint8\n",
      " 34  Occupation_ Exec-managerial                 30031 non-null  uint8\n",
      " 35  Occupation_ Farming-fishing                 30031 non-null  uint8\n",
      " 36  Occupation_ Handlers-cleaners               30031 non-null  uint8\n",
      " 37  Occupation_ Machine-op-inspct               30031 non-null  uint8\n",
      " 38  Occupation_ Other-service                   30031 non-null  uint8\n",
      " 39  Occupation_ Priv-house-serv                 30031 non-null  uint8\n",
      " 40  Occupation_ Prof-specialty                  30031 non-null  uint8\n",
      " 41  Occupation_ Protective-serv                 30031 non-null  uint8\n",
      " 42  Occupation_ Sales                           30031 non-null  uint8\n",
      " 43  Occupation_ Tech-support                    30031 non-null  uint8\n",
      " 44  Occupation_ Transport-moving                30031 non-null  uint8\n",
      " 45  Relationship_ Not-in-family                 30031 non-null  uint8\n",
      " 46  Relationship_ Other-relative                30031 non-null  uint8\n",
      " 47  Relationship_ Own-child                     30031 non-null  uint8\n",
      " 48  Relationship_ Unmarried                     30031 non-null  uint8\n",
      " 49  Relationship_ Wife                          30031 non-null  uint8\n",
      " 50  Race_ Asian-Pac-Islander                    30031 non-null  uint8\n",
      " 51  Race_ Black                                 30031 non-null  uint8\n",
      " 52  Race_ Other                                 30031 non-null  uint8\n",
      " 53  Race_ White                                 30031 non-null  uint8\n",
      " 54  Sex_ Male                                   30031 non-null  uint8\n",
      " 55  Native_country_ Canada                      30031 non-null  uint8\n",
      " 56  Native_country_ China                       30031 non-null  uint8\n",
      " 57  Native_country_ Columbia                    30031 non-null  uint8\n",
      " 58  Native_country_ Cuba                        30031 non-null  uint8\n",
      " 59  Native_country_ Dominican-Republic          30031 non-null  uint8\n",
      " 60  Native_country_ Ecuador                     30031 non-null  uint8\n",
      " 61  Native_country_ El-Salvador                 30031 non-null  uint8\n",
      " 62  Native_country_ England                     30031 non-null  uint8\n",
      " 63  Native_country_ France                      30031 non-null  uint8\n",
      " 64  Native_country_ Germany                     30031 non-null  uint8\n",
      " 65  Native_country_ Greece                      30031 non-null  uint8\n",
      " 66  Native_country_ Guatemala                   30031 non-null  uint8\n",
      " 67  Native_country_ Haiti                       30031 non-null  uint8\n",
      " 68  Native_country_ Holand-Netherlands          30031 non-null  uint8\n",
      " 69  Native_country_ Honduras                    30031 non-null  uint8\n",
      " 70  Native_country_ Hong                        30031 non-null  uint8\n",
      " 71  Native_country_ Hungary                     30031 non-null  uint8\n",
      " 72  Native_country_ India                       30031 non-null  uint8\n",
      " 73  Native_country_ Iran                        30031 non-null  uint8\n",
      " 74  Native_country_ Ireland                     30031 non-null  uint8\n",
      " 75  Native_country_ Italy                       30031 non-null  uint8\n",
      " 76  Native_country_ Jamaica                     30031 non-null  uint8\n",
      " 77  Native_country_ Japan                       30031 non-null  uint8\n",
      " 78  Native_country_ Laos                        30031 non-null  uint8\n",
      " 79  Native_country_ Mexico                      30031 non-null  uint8\n",
      " 80  Native_country_ Nicaragua                   30031 non-null  uint8\n",
      " 81  Native_country_ Outlying-US(Guam-USVI-etc)  30031 non-null  uint8\n",
      " 82  Native_country_ Peru                        30031 non-null  uint8\n",
      " 83  Native_country_ Philippines                 30031 non-null  uint8\n",
      " 84  Native_country_ Poland                      30031 non-null  uint8\n",
      " 85  Native_country_ Portugal                    30031 non-null  uint8\n",
      " 86  Native_country_ Puerto-Rico                 30031 non-null  uint8\n",
      " 87  Native_country_ Scotland                    30031 non-null  uint8\n",
      " 88  Native_country_ South                       30031 non-null  uint8\n",
      " 89  Native_country_ Taiwan                      30031 non-null  uint8\n",
      " 90  Native_country_ Thailand                    30031 non-null  uint8\n",
      " 91  Native_country_ Trinadad&Tobago             30031 non-null  uint8\n",
      " 92  Native_country_ United-States               30031 non-null  uint8\n",
      " 93  Native_country_ Vietnam                     30031 non-null  uint8\n",
      " 94  Native_country_ Yugoslavia                  30031 non-null  uint8\n",
      "dtypes: int64(6), uint8(89)\n",
      "memory usage: 4.2 MB\n"
     ]
    }
   ],
   "source": [
    "data.info()"
   ]
  },
  {
   "cell_type": "markdown",
   "id": "fca63e25",
   "metadata": {},
   "source": [
    "all the features and label are now int type ."
   ]
  },
  {
   "cell_type": "code",
   "execution_count": 54,
   "id": "fb701de2",
   "metadata": {},
   "outputs": [],
   "source": [
    "#scaling the data\n",
    "\n",
    "from sklearn.preprocessing import StandardScaler"
   ]
  },
  {
   "cell_type": "code",
   "execution_count": 55,
   "id": "58b88872",
   "metadata": {},
   "outputs": [],
   "source": [
    "scaler=StandardScaler()"
   ]
  },
  {
   "cell_type": "code",
   "execution_count": 56,
   "id": "8c39b70a",
   "metadata": {},
   "outputs": [],
   "source": [
    "X = data.drop('Income', 1)\n",
    "y= data['Income']"
   ]
  },
  {
   "cell_type": "code",
   "execution_count": 57,
   "id": "fbdca2a5",
   "metadata": {},
   "outputs": [],
   "source": [
    "X= scaler.fit_transform(X)"
   ]
  },
  {
   "cell_type": "code",
   "execution_count": 58,
   "id": "a8302ec0",
   "metadata": {},
   "outputs": [
    {
     "data": {
      "text/plain": [
       "array([[ 1.16348413,  1.17548396, -0.14215356, ...,  0.28941385,\n",
       "        -0.04436783, -0.02235472],\n",
       "       [ 0.12437675, -0.52810694, -0.14215356, ...,  0.28941385,\n",
       "        -0.04436783, -0.02235472],\n",
       "       [ 1.42326098, -1.37990238, -0.14215356, ...,  0.28941385,\n",
       "        -0.04436783, -0.02235472],\n",
       "       ...,\n",
       "       [ 1.85622239, -0.52810694, -0.14215356, ...,  0.28941385,\n",
       "        -0.04436783, -0.02235472],\n",
       "       [-1.26109977, -0.52810694, -0.14215356, ...,  0.28941385,\n",
       "        -0.04436783, -0.02235472],\n",
       "       [ 1.3366687 , -0.52810694,  1.91218343, ...,  0.28941385,\n",
       "        -0.04436783, -0.02235472]])"
      ]
     },
     "execution_count": 58,
     "metadata": {},
     "output_type": "execute_result"
    }
   ],
   "source": [
    "X"
   ]
  },
  {
   "cell_type": "code",
   "execution_count": 59,
   "id": "95d594a2",
   "metadata": {},
   "outputs": [],
   "source": [
    "#importing imp libraries for models training:\n",
    "\n",
    "\n",
    "from sklearn.model_selection import train_test_split\n",
    "from sklearn.ensemble import RandomForestClassifier\n",
    "from sklearn.neighbors import KNeighborsClassifier\n",
    "from sklearn.metrics import classification_report\n",
    "from sklearn.metrics import r2_score,mean_absolute_error,mean_squared_error,accuracy_score,confusion_matrix,roc_curve,roc_auc_score\n",
    "from sklearn.tree import DecisionTreeClassifier\n"
   ]
  },
  {
   "cell_type": "code",
   "execution_count": 60,
   "id": "a8b940e6",
   "metadata": {},
   "outputs": [],
   "source": [
    "#spliting the data for train and test:\n",
    "\n",
    "X_train, X_test, y_train, y_test = train_test_split(X, y, test_size = 0.25, random_state=22)"
   ]
  },
  {
   "cell_type": "code",
   "execution_count": 61,
   "id": "4411284a",
   "metadata": {},
   "outputs": [],
   "source": [
    "#definig the function for train and test the model:\n",
    "\n",
    "def metric_score(clf,X_train,X_test,y_train,y_test,train=True):\n",
    "    if train :\n",
    "        y_pred=clf.predict(X_train)\n",
    "        print(\"\\n**********************************Train Result***************************************\")\n",
    "        print(f\"Accuracy Score:{accuracy_score(y_train,y_pred)*100:2f}%\")\n",
    "    elif train == False :\n",
    "        pred = clf.predict(X_test)\n",
    "        print(\"\\n**********************************Test Result****************************************\")\n",
    "        print(f\"Accuracy Score:{accuracy_score(y_test,pred)*100:2f}%\")\n",
    "        print('\\n \\n Test Classification Report \\n',classification_report(y_test,pred,digits=2))"
   ]
  },
  {
   "cell_type": "markdown",
   "id": "51592310",
   "metadata": {},
   "source": [
    "# Knn model"
   ]
  },
  {
   "cell_type": "code",
   "execution_count": 62,
   "id": "a3aaea4b",
   "metadata": {},
   "outputs": [],
   "source": [
    "knn = KNeighborsClassifier()"
   ]
  },
  {
   "cell_type": "code",
   "execution_count": 63,
   "id": "1fdd3263",
   "metadata": {},
   "outputs": [
    {
     "data": {
      "text/plain": [
       "KNeighborsClassifier()"
      ]
     },
     "execution_count": 63,
     "metadata": {},
     "output_type": "execute_result"
    }
   ],
   "source": [
    "knn.fit(X_train,y_train)"
   ]
  },
  {
   "cell_type": "code",
   "execution_count": 64,
   "id": "43a9589d",
   "metadata": {},
   "outputs": [
    {
     "name": "stdout",
     "output_type": "stream",
     "text": [
      "\n",
      "**********************************Train Result***************************************\n",
      "Accuracy Score:87.359588%\n",
      "\n",
      "**********************************Test Result****************************************\n",
      "Accuracy Score:83.137986%\n",
      "\n",
      " \n",
      " Test Classification Report \n",
      "               precision    recall  f1-score   support\n",
      "\n",
      "           0       0.67      0.59      0.63      1816\n",
      "           1       0.87      0.91      0.89      5692\n",
      "\n",
      "    accuracy                           0.83      7508\n",
      "   macro avg       0.77      0.75      0.76      7508\n",
      "weighted avg       0.83      0.83      0.83      7508\n",
      "\n"
     ]
    }
   ],
   "source": [
    "metric_score(knn,X_train,X_test,y_train,y_test,train=True)\n",
    "metric_score(knn,X_train,X_test,y_train,y_test,train=False)"
   ]
  },
  {
   "cell_type": "markdown",
   "id": "c5fedf94",
   "metadata": {},
   "source": [
    "# Random Forest Model"
   ]
  },
  {
   "cell_type": "code",
   "execution_count": 65,
   "id": "eaabec0c",
   "metadata": {},
   "outputs": [
    {
     "data": {
      "text/plain": [
       "RandomForestClassifier(random_state=1)"
      ]
     },
     "execution_count": 65,
     "metadata": {},
     "output_type": "execute_result"
    }
   ],
   "source": [
    "rfc = RandomForestClassifier(random_state=1)\n",
    "rfc.fit(X_train, y_train)"
   ]
  },
  {
   "cell_type": "code",
   "execution_count": 66,
   "id": "9c26dae6",
   "metadata": {},
   "outputs": [
    {
     "name": "stdout",
     "output_type": "stream",
     "text": [
      "\n",
      "**********************************Train Result***************************************\n",
      "Accuracy Score:97.709009%\n",
      "\n",
      "**********************************Test Result****************************************\n",
      "Accuracy Score:84.882792%\n",
      "\n",
      " \n",
      " Test Classification Report \n",
      "               precision    recall  f1-score   support\n",
      "\n",
      "           0       0.71      0.64      0.67      1816\n",
      "           1       0.89      0.92      0.90      5692\n",
      "\n",
      "    accuracy                           0.85      7508\n",
      "   macro avg       0.80      0.78      0.79      7508\n",
      "weighted avg       0.84      0.85      0.85      7508\n",
      "\n"
     ]
    }
   ],
   "source": [
    "metric_score(rfc,X_train,X_test,y_train,y_test,train=True)\n",
    "metric_score(rfc,X_train,X_test,y_train,y_test,train=False)"
   ]
  },
  {
   "cell_type": "markdown",
   "id": "c0f28982",
   "metadata": {},
   "source": [
    "# Decision Tree Model"
   ]
  },
  {
   "cell_type": "code",
   "execution_count": 67,
   "id": "39243451",
   "metadata": {},
   "outputs": [],
   "source": [
    "DT = DecisionTreeClassifier()"
   ]
  },
  {
   "cell_type": "code",
   "execution_count": 68,
   "id": "89cd6434",
   "metadata": {},
   "outputs": [
    {
     "data": {
      "text/plain": [
       "DecisionTreeClassifier()"
      ]
     },
     "execution_count": 68,
     "metadata": {},
     "output_type": "execute_result"
    }
   ],
   "source": [
    "DT.fit(X_train,y_train)"
   ]
  },
  {
   "cell_type": "code",
   "execution_count": 69,
   "id": "8f965817",
   "metadata": {},
   "outputs": [
    {
     "name": "stdout",
     "output_type": "stream",
     "text": [
      "\n",
      "**********************************Train Result***************************************\n",
      "Accuracy Score:97.709009%\n",
      "\n",
      "**********************************Test Result****************************************\n",
      "Accuracy Score:81.393181%\n",
      "\n",
      " \n",
      " Test Classification Report \n",
      "               precision    recall  f1-score   support\n",
      "\n",
      "           0       0.61      0.65      0.63      1816\n",
      "           1       0.89      0.87      0.88      5692\n",
      "\n",
      "    accuracy                           0.81      7508\n",
      "   macro avg       0.75      0.76      0.75      7508\n",
      "weighted avg       0.82      0.81      0.82      7508\n",
      "\n"
     ]
    }
   ],
   "source": [
    "metric_score(DT,X_train,X_test,y_train,y_test,train=True)\n",
    "metric_score(DT,X_train,X_test,y_train,y_test,train=False)"
   ]
  },
  {
   "cell_type": "markdown",
   "id": "0f984fcd",
   "metadata": {},
   "source": [
    "# checking if the the model is under fitting or overfitting by using cross validation score"
   ]
  },
  {
   "cell_type": "code",
   "execution_count": 70,
   "id": "8080fdbf",
   "metadata": {},
   "outputs": [],
   "source": [
    "from sklearn.model_selection import KFold,cross_val_score\n"
   ]
  },
  {
   "cell_type": "code",
   "execution_count": 71,
   "id": "7f8a4491",
   "metadata": {},
   "outputs": [
    {
     "data": {
      "text/plain": [
       "array([0.82148683, 0.82867133, 0.82144522, 0.82214452, 0.83006993,\n",
       "       0.82983683, 0.82867133])"
      ]
     },
     "execution_count": 71,
     "metadata": {},
     "output_type": "execute_result"
    }
   ],
   "source": [
    "cross_val_score(knn,X ,y ,cv=7)"
   ]
  },
  {
   "cell_type": "code",
   "execution_count": 72,
   "id": "3491f46b",
   "metadata": {},
   "outputs": [
    {
     "data": {
      "text/plain": [
       "0.8260465705350347"
      ]
     },
     "execution_count": 72,
     "metadata": {},
     "output_type": "execute_result"
    }
   ],
   "source": [
    "cross_val_score(KNeighborsClassifier(),X,y,cv=7).mean()"
   ]
  },
  {
   "cell_type": "code",
   "execution_count": 73,
   "id": "78db5c6c",
   "metadata": {},
   "outputs": [
    {
     "data": {
      "text/plain": [
       "0.8463253077869359"
      ]
     },
     "execution_count": 73,
     "metadata": {},
     "output_type": "execute_result"
    }
   ],
   "source": [
    "cross_val_score(rfc,X ,y ,cv=5).mean()"
   ]
  },
  {
   "cell_type": "code",
   "execution_count": 74,
   "id": "b41bd88a",
   "metadata": {},
   "outputs": [
    {
     "data": {
      "text/plain": [
       "0.813725750416278"
      ]
     },
     "execution_count": 74,
     "metadata": {},
     "output_type": "execute_result"
    }
   ],
   "source": [
    "cross_val_score(DT,X ,y ,cv=5).mean()"
   ]
  },
  {
   "cell_type": "markdown",
   "id": "59478eb9",
   "metadata": {},
   "source": [
    "all the models are fine no model is overfitting."
   ]
  },
  {
   "cell_type": "markdown",
   "id": "fd965299",
   "metadata": {},
   "source": [
    "# Hyper Parameter Tunning"
   ]
  },
  {
   "cell_type": "code",
   "execution_count": 75,
   "id": "ff5b8715",
   "metadata": {},
   "outputs": [],
   "source": [
    "from sklearn.model_selection import GridSearchCV"
   ]
  },
  {
   "cell_type": "markdown",
   "id": "23b14a51",
   "metadata": {},
   "source": [
    "# knn model tunning"
   ]
  },
  {
   "cell_type": "code",
   "execution_count": 76,
   "id": "bb607715",
   "metadata": {},
   "outputs": [],
   "source": [
    "param_grid={'algorithm':['kd_tree','brute'],'leaf_size':[3,5,6,7,8],'n_neighbors':[3,5,7,9,11,13]}"
   ]
  },
  {
   "cell_type": "code",
   "execution_count": 77,
   "id": "5b43f723",
   "metadata": {},
   "outputs": [],
   "source": [
    "gridsearch=GridSearchCV(estimator=knn,param_grid=param_grid)\n"
   ]
  },
  {
   "cell_type": "code",
   "execution_count": 78,
   "id": "7a39094e",
   "metadata": {},
   "outputs": [
    {
     "data": {
      "text/plain": [
       "GridSearchCV(estimator=KNeighborsClassifier(),\n",
       "             param_grid={'algorithm': ['kd_tree', 'brute'],\n",
       "                         'leaf_size': [3, 5, 6, 7, 8],\n",
       "                         'n_neighbors': [3, 5, 7, 9, 11, 13]})"
      ]
     },
     "execution_count": 78,
     "metadata": {},
     "output_type": "execute_result"
    }
   ],
   "source": [
    "gridsearch.fit(X_train,y_train)"
   ]
  },
  {
   "cell_type": "code",
   "execution_count": 79,
   "id": "8b465745",
   "metadata": {},
   "outputs": [
    {
     "data": {
      "text/plain": [
       "{'algorithm': 'brute', 'leaf_size': 3, 'n_neighbors': 13}"
      ]
     },
     "execution_count": 79,
     "metadata": {},
     "output_type": "execute_result"
    }
   ],
   "source": [
    "gridsearch.best_params_"
   ]
  },
  {
   "cell_type": "code",
   "execution_count": 80,
   "id": "e27f0dbd",
   "metadata": {},
   "outputs": [
    {
     "data": {
      "text/plain": [
       "KNeighborsClassifier(algorithm='brute', leaf_size=3, n_neighbors=13)"
      ]
     },
     "execution_count": 80,
     "metadata": {},
     "output_type": "execute_result"
    }
   ],
   "source": [
    "knn = KNeighborsClassifier(algorithm='brute',leaf_size=3,n_neighbors=13)\n",
    "knn.fit(X_train,y_train)"
   ]
  },
  {
   "cell_type": "code",
   "execution_count": 81,
   "id": "6d860b15",
   "metadata": {},
   "outputs": [
    {
     "name": "stdout",
     "output_type": "stream",
     "text": [
      "\n",
      "**********************************Train Result***************************************\n",
      "Accuracy Score:85.463748%\n",
      "\n",
      "**********************************Test Result****************************************\n",
      "Accuracy Score:83.630794%\n",
      "\n",
      " \n",
      " Test Classification Report \n",
      "               precision    recall  f1-score   support\n",
      "\n",
      "           0       0.69      0.59      0.63      1816\n",
      "           1       0.87      0.92      0.89      5692\n",
      "\n",
      "    accuracy                           0.84      7508\n",
      "   macro avg       0.78      0.75      0.76      7508\n",
      "weighted avg       0.83      0.84      0.83      7508\n",
      "\n"
     ]
    }
   ],
   "source": [
    "metric_score(knn,X_train,X_test,y_train,y_test,train=True)\n",
    "metric_score(knn,X_train,X_test,y_train,y_test,train=False)"
   ]
  },
  {
   "cell_type": "markdown",
   "id": "e45ff0d9",
   "metadata": {},
   "source": [
    "# Random Forest Tunning"
   ]
  },
  {
   "cell_type": "code",
   "execution_count": 82,
   "id": "efce222b",
   "metadata": {},
   "outputs": [],
   "source": [
    "from sklearn.model_selection import RandomizedSearchCV\n"
   ]
  },
  {
   "cell_type": "code",
   "execution_count": 83,
   "id": "7f7eec12",
   "metadata": {},
   "outputs": [],
   "source": [
    "param_grid={'n_estimators':[100, 300, 500],\n",
    "        'min_samples_split':[1,2,3,4],\n",
    "        'min_samples_leaf':[1,2,3,4],\n",
    "            'max_depth':[None,1,2,3,4,5,6,7,8]}"
   ]
  },
  {
   "cell_type": "code",
   "execution_count": 84,
   "id": "65b0f5c4",
   "metadata": {},
   "outputs": [],
   "source": [
    "randomsearch=RandomizedSearchCV(RandomForestClassifier(),param_grid,cv=10)\n"
   ]
  },
  {
   "cell_type": "code",
   "execution_count": 85,
   "id": "43a59f9e",
   "metadata": {},
   "outputs": [
    {
     "data": {
      "text/plain": [
       "RandomizedSearchCV(cv=10, estimator=RandomForestClassifier(),\n",
       "                   param_distributions={'max_depth': [None, 1, 2, 3, 4, 5, 6, 7,\n",
       "                                                      8],\n",
       "                                        'min_samples_leaf': [1, 2, 3, 4],\n",
       "                                        'min_samples_split': [1, 2, 3, 4],\n",
       "                                        'n_estimators': [100, 300, 500]})"
      ]
     },
     "execution_count": 85,
     "metadata": {},
     "output_type": "execute_result"
    }
   ],
   "source": [
    "randomsearch.fit(X_train,y_train)"
   ]
  },
  {
   "cell_type": "code",
   "execution_count": 86,
   "id": "8dcd4537",
   "metadata": {},
   "outputs": [
    {
     "data": {
      "text/plain": [
       "{'n_estimators': 100,\n",
       " 'min_samples_split': 4,\n",
       " 'min_samples_leaf': 1,\n",
       " 'max_depth': None}"
      ]
     },
     "execution_count": 86,
     "metadata": {},
     "output_type": "execute_result"
    }
   ],
   "source": [
    "randomsearch.best_params_"
   ]
  },
  {
   "cell_type": "code",
   "execution_count": 87,
   "id": "0d9b6ff6",
   "metadata": {},
   "outputs": [],
   "source": [
    "rfc=RandomForestClassifier(max_depth=7, min_samples_leaf=1, min_samples_split=4,n_estimators=100)"
   ]
  },
  {
   "cell_type": "code",
   "execution_count": 88,
   "id": "e7f1ca1e",
   "metadata": {},
   "outputs": [
    {
     "data": {
      "text/plain": [
       "RandomForestClassifier(max_depth=7, min_samples_split=4)"
      ]
     },
     "execution_count": 88,
     "metadata": {},
     "output_type": "execute_result"
    }
   ],
   "source": [
    "rfc.fit(X_train,y_train)"
   ]
  },
  {
   "cell_type": "code",
   "execution_count": 89,
   "id": "2398efbf",
   "metadata": {},
   "outputs": [
    {
     "name": "stdout",
     "output_type": "stream",
     "text": [
      "\n",
      "**********************************Train Result***************************************\n",
      "Accuracy Score:84.806642%\n",
      "\n",
      "**********************************Test Result****************************************\n",
      "Accuracy Score:84.882792%\n",
      "\n",
      " \n",
      " Test Classification Report \n",
      "               precision    recall  f1-score   support\n",
      "\n",
      "           0       0.84      0.47      0.60      1816\n",
      "           1       0.85      0.97      0.91      5692\n",
      "\n",
      "    accuracy                           0.85      7508\n",
      "   macro avg       0.84      0.72      0.75      7508\n",
      "weighted avg       0.85      0.85      0.83      7508\n",
      "\n"
     ]
    }
   ],
   "source": [
    "metric_score(rfc,X_train,X_test,y_train,y_test,train=True)\n",
    "metric_score(rfc,X_train,X_test,y_train,y_test,train=False)"
   ]
  },
  {
   "cell_type": "markdown",
   "id": "19b665a5",
   "metadata": {},
   "source": [
    "# Decision Tree Tunning"
   ]
  },
  {
   "cell_type": "code",
   "execution_count": 90,
   "id": "024748cf",
   "metadata": {},
   "outputs": [],
   "source": [
    "param_grid={'criterion':['gini','entropy'],\n",
    "           'max_depth':range(10,15),\n",
    "           'min_samples_leaf':range(2,6),\n",
    "           'min_samples_split':range(3,8),\n",
    "           'max_leaf_nodes':range(5,10)}"
   ]
  },
  {
   "cell_type": "code",
   "execution_count": 91,
   "id": "4cdebd3d",
   "metadata": {},
   "outputs": [],
   "source": [
    "gridsearch=GridSearchCV(estimator=DT,param_grid=param_grid,cv=5,n_jobs=-1)"
   ]
  },
  {
   "cell_type": "code",
   "execution_count": 92,
   "id": "2cc4c741",
   "metadata": {},
   "outputs": [
    {
     "data": {
      "text/plain": [
       "GridSearchCV(cv=5, estimator=DecisionTreeClassifier(), n_jobs=-1,\n",
       "             param_grid={'criterion': ['gini', 'entropy'],\n",
       "                         'max_depth': range(10, 15),\n",
       "                         'max_leaf_nodes': range(5, 10),\n",
       "                         'min_samples_leaf': range(2, 6),\n",
       "                         'min_samples_split': range(3, 8)})"
      ]
     },
     "execution_count": 92,
     "metadata": {},
     "output_type": "execute_result"
    }
   ],
   "source": [
    "gridsearch.fit(X_train,y_train)"
   ]
  },
  {
   "cell_type": "code",
   "execution_count": 93,
   "id": "f5198c37",
   "metadata": {},
   "outputs": [
    {
     "data": {
      "text/plain": [
       "{'criterion': 'gini',\n",
       " 'max_depth': 10,\n",
       " 'max_leaf_nodes': 7,\n",
       " 'min_samples_leaf': 2,\n",
       " 'min_samples_split': 3}"
      ]
     },
     "execution_count": 93,
     "metadata": {},
     "output_type": "execute_result"
    }
   ],
   "source": [
    "gridsearch.best_params_"
   ]
  },
  {
   "cell_type": "code",
   "execution_count": 94,
   "id": "dd6318ae",
   "metadata": {},
   "outputs": [
    {
     "data": {
      "text/plain": [
       "DecisionTreeClassifier(max_depth=10, max_leaf_nodes=7, min_samples_leaf=2,\n",
       "                       min_samples_split=3)"
      ]
     },
     "execution_count": 94,
     "metadata": {},
     "output_type": "execute_result"
    }
   ],
   "source": [
    "DT=DecisionTreeClassifier(criterion='gini',min_samples_split=3,max_depth=10,max_leaf_nodes=7,min_samples_leaf=2)\n",
    "DT.fit(X_train,y_train)"
   ]
  },
  {
   "cell_type": "code",
   "execution_count": 95,
   "id": "a41437ab",
   "metadata": {},
   "outputs": [
    {
     "name": "stdout",
     "output_type": "stream",
     "text": [
      "\n",
      "**********************************Train Result***************************************\n",
      "Accuracy Score:84.726724%\n",
      "\n",
      "**********************************Test Result****************************************\n",
      "Accuracy Score:84.696324%\n",
      "\n",
      " \n",
      " Test Classification Report \n",
      "               precision    recall  f1-score   support\n",
      "\n",
      "           0       0.76      0.53      0.63      1816\n",
      "           1       0.86      0.95      0.90      5692\n",
      "\n",
      "    accuracy                           0.85      7508\n",
      "   macro avg       0.81      0.74      0.77      7508\n",
      "weighted avg       0.84      0.85      0.84      7508\n",
      "\n"
     ]
    }
   ],
   "source": [
    "metric_score(DT,X_train,X_test,y_train,y_test,train=True)\n",
    "metric_score(DT,X_train,X_test,y_train,y_test,train=False)"
   ]
  },
  {
   "cell_type": "code",
   "execution_count": 96,
   "id": "69f6240e",
   "metadata": {},
   "outputs": [],
   "source": [
    "y_pred=DT.predict(X_test)"
   ]
  },
  {
   "cell_type": "code",
   "execution_count": 97,
   "id": "5bdf8e31",
   "metadata": {},
   "outputs": [],
   "source": [
    "fpr,tpr,thresholds = roc_curve(y_test,y_pred)"
   ]
  },
  {
   "cell_type": "code",
   "execution_count": 98,
   "id": "012732d7",
   "metadata": {},
   "outputs": [
    {
     "name": "stdout",
     "output_type": "stream",
     "text": [
      "Threshold= [2 1 0]\n",
      "True Positive Rate= [0.        0.9478215 1.       ]\n",
      "False positive Rate= [0.       0.469163 1.      ]\n"
     ]
    }
   ],
   "source": [
    "print('Threshold=',thresholds)\n",
    "print('True Positive Rate=',tpr)\n",
    "print('False positive Rate=',fpr)"
   ]
  },
  {
   "cell_type": "code",
   "execution_count": 99,
   "id": "9251b335",
   "metadata": {},
   "outputs": [
    {
     "data": {
      "image/png": "[encoded data removed]",
      "text/plain": [
       "<Figure size 432x288 with 1 Axes>"
      ]
     },
     "metadata": {
      "needs_background": "light"
     },
     "output_type": "display_data"
    }
   ],
   "source": [
    "plt.plot(fpr,tpr,label='ROC')\n",
    "plt.plot([0, 1],[0, 1],linestyle='--')\n",
    "plt.xlabel('False Positive Rate')\n",
    "plt.ylabel('True Positive Rate')\n",
    "plt.title('ROC Curve')\n",
    "plt.legend()\n",
    "plt.show()"
   ]
  },
  {
   "cell_type": "code",
   "execution_count": 100,
   "id": "bee7b159",
   "metadata": {},
   "outputs": [
    {
     "name": "stdout",
     "output_type": "stream",
     "text": [
      "0.7393292541351801\n"
     ]
    }
   ],
   "source": [
    "auc_score=roc_auc_score(y_test,y_pred)\n",
    "print(auc_score)"
   ]
  },
  {
   "cell_type": "markdown",
   "id": "b59e4129",
   "metadata": {},
   "source": [
    "After hyperparameter tunning Decision tree seems to be performing good as it has 85% of accuracy and recall value is also good. so finalizing Decision tree model."
   ]
  },
  {
   "cell_type": "code",
   "execution_count": 101,
   "id": "23e84d85",
   "metadata": {},
   "outputs": [],
   "source": [
    "final_model = DecisionTreeClassifier(criterion='gini',min_samples_split=3,max_depth=10,max_leaf_nodes=7,min_samples_leaf=2)\n"
   ]
  },
  {
   "cell_type": "code",
   "execution_count": 102,
   "id": "f216e71c",
   "metadata": {},
   "outputs": [
    {
     "data": {
      "text/plain": [
       "DecisionTreeClassifier(max_depth=10, max_leaf_nodes=7, min_samples_leaf=2,\n",
       "                       min_samples_split=3)"
      ]
     },
     "execution_count": 102,
     "metadata": {},
     "output_type": "execute_result"
    }
   ],
   "source": [
    "final_model.fit(X_train,y_train)"
   ]
  },
  {
   "cell_type": "code",
   "execution_count": 103,
   "id": "391285a9",
   "metadata": {},
   "outputs": [],
   "source": [
    "import joblib"
   ]
  },
  {
   "cell_type": "code",
   "execution_count": 104,
   "id": "43d8c21e",
   "metadata": {},
   "outputs": [
    {
     "data": {
      "text/plain": [
       "['Census_income Project']"
      ]
     },
     "execution_count": 104,
     "metadata": {},
     "output_type": "execute_result"
    }
   ],
   "source": [
    "joblib.dump(final_model,'Census_income Project')"
   ]
  },
  {
   "cell_type": "code",
   "execution_count": null,
   "id": "1168582a",
   "metadata": {},
   "outputs": [],
   "source": []
  }
 ],
 "metadata": {
  "kernelspec": {
   "display_name": "Python 3 (ipykernel)",
   "language": "python",
   "name": "python3"
  },
  "language_info": {
   "codemirror_mode": {
    "name": "ipython",
    "version": 3
   },
   "file_extension": ".py",
   "mimetype": "text/x-python",
   "name": "python",
   "nbconvert_exporter": "python",
   "pygments_lexer": "ipython3",
   "version": "3.9.12"
  }
 },
 "nbformat": 4,
 "nbformat_minor": 5
}
